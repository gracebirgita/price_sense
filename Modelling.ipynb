{
 "cells": [
  {
   "cell_type": "code",
   "execution_count": 294,
   "id": "315cdc60",
   "metadata": {},
   "outputs": [],
   "source": [
    "# process data\n",
    "import pandas as pd\n",
    "import numpy as np\n",
    "\n",
    "# preprocessing\n",
    "from sklearn.preprocessing import LabelEncoder, MinMaxScaler\n",
    "\n",
    "# modelling\n",
    "from sklearn.multiclass import OneVsRestClassifier\n",
    "from sklearn.ensemble import RandomForestClassifier\n",
    "from sklearn.metrics import classification_report,accuracy_score, roc_auc_score, roc_curve, auc\n",
    "from sklearn.model_selection import train_test_split\n"
   ]
  },
  {
   "cell_type": "markdown",
   "id": "09a59e99",
   "metadata": {},
   "source": [
    "## JOIN DATASET"
   ]
  },
  {
   "cell_type": "code",
   "execution_count": 295,
   "id": "78b92dc9",
   "metadata": {},
   "outputs": [],
   "source": [
    "astro = pd.read_csv(\"astro_fix.csv\")\n",
    "indomart = pd.read_csv(\"indomart_base.csv\")"
   ]
  },
  {
   "cell_type": "code",
   "execution_count": 296,
   "id": "d09eba96",
   "metadata": {},
   "outputs": [
    {
     "data": {
      "text/html": [
       "<div>\n",
       "<style scoped>\n",
       "    .dataframe tbody tr th:only-of-type {\n",
       "        vertical-align: middle;\n",
       "    }\n",
       "\n",
       "    .dataframe tbody tr th {\n",
       "        vertical-align: top;\n",
       "    }\n",
       "\n",
       "    .dataframe thead th {\n",
       "        text-align: right;\n",
       "    }\n",
       "</style>\n",
       "<table border=\"1\" class=\"dataframe\">\n",
       "  <thead>\n",
       "    <tr style=\"text-align: right;\">\n",
       "      <th></th>\n",
       "      <th>astro_name</th>\n",
       "      <th>astro_price</th>\n",
       "    </tr>\n",
       "  </thead>\n",
       "  <tbody>\n",
       "    <tr>\n",
       "      <th>0</th>\n",
       "      <td>Barilla Pasta Rigatoni</td>\n",
       "      <td>Rp48.500</td>\n",
       "    </tr>\n",
       "    <tr>\n",
       "      <th>1</th>\n",
       "      <td>Barilla Pasta Angel Hair</td>\n",
       "      <td>Rp40.900</td>\n",
       "    </tr>\n",
       "    <tr>\n",
       "      <th>2</th>\n",
       "      <td>Masaya Beras Porang</td>\n",
       "      <td>Rp125.000</td>\n",
       "    </tr>\n",
       "    <tr>\n",
       "      <th>3</th>\n",
       "      <td>Mie Sedaap Soto Dus/Mie Instan</td>\n",
       "      <td>Rp108.000</td>\n",
       "    </tr>\n",
       "    <tr>\n",
       "      <th>4</th>\n",
       "      <td>Mie Sedaap Singapore Spicy Laksa Dus/Mie Instan</td>\n",
       "      <td>Rp108.000</td>\n",
       "    </tr>\n",
       "  </tbody>\n",
       "</table>\n",
       "</div>"
      ],
      "text/plain": [
       "                                        astro_name astro_price\n",
       "0                           Barilla Pasta Rigatoni    Rp48.500\n",
       "1                         Barilla Pasta Angel Hair    Rp40.900\n",
       "2                              Masaya Beras Porang   Rp125.000\n",
       "3                   Mie Sedaap Soto Dus/Mie Instan   Rp108.000\n",
       "4  Mie Sedaap Singapore Spicy Laksa Dus/Mie Instan   Rp108.000"
      ]
     },
     "execution_count": 296,
     "metadata": {},
     "output_type": "execute_result"
    }
   ],
   "source": [
    "astro.head(5)"
   ]
  },
  {
   "cell_type": "code",
   "execution_count": 297,
   "id": "48294e5b",
   "metadata": {},
   "outputs": [
    {
     "data": {
      "text/html": [
       "<div>\n",
       "<style scoped>\n",
       "    .dataframe tbody tr th:only-of-type {\n",
       "        vertical-align: middle;\n",
       "    }\n",
       "\n",
       "    .dataframe tbody tr th {\n",
       "        vertical-align: top;\n",
       "    }\n",
       "\n",
       "    .dataframe thead th {\n",
       "        text-align: right;\n",
       "    }\n",
       "</style>\n",
       "<table border=\"1\" class=\"dataframe\">\n",
       "  <thead>\n",
       "    <tr style=\"text-align: right;\">\n",
       "      <th></th>\n",
       "      <th>indomart_name</th>\n",
       "      <th>indomart_price</th>\n",
       "    </tr>\n",
       "  </thead>\n",
       "  <tbody>\n",
       "    <tr>\n",
       "      <th>0</th>\n",
       "      <td>Barco Minyak Goreng 2L</td>\n",
       "      <td>Rp 112.500</td>\n",
       "    </tr>\n",
       "    <tr>\n",
       "      <th>1</th>\n",
       "      <td>Barco Minyak Goreng Refill 1000Ml</td>\n",
       "      <td>Rp 52.900</td>\n",
       "    </tr>\n",
       "    <tr>\n",
       "      <th>2</th>\n",
       "      <td>Happy Soya Minyak Goreng Refill 1L</td>\n",
       "      <td>Rp 52.900</td>\n",
       "    </tr>\n",
       "    <tr>\n",
       "      <th>3</th>\n",
       "      <td>Harumas Minyak Goreng 2L</td>\n",
       "      <td>Rp 38.500</td>\n",
       "    </tr>\n",
       "    <tr>\n",
       "      <th>4</th>\n",
       "      <td>Bimoli Minyak Goreng 1000Ml</td>\n",
       "      <td>Rp 20.900</td>\n",
       "    </tr>\n",
       "  </tbody>\n",
       "</table>\n",
       "</div>"
      ],
      "text/plain": [
       "                        indomart_name indomart_price\n",
       "0              Barco Minyak Goreng 2L     Rp 112.500\n",
       "1   Barco Minyak Goreng Refill 1000Ml      Rp 52.900\n",
       "2  Happy Soya Minyak Goreng Refill 1L      Rp 52.900\n",
       "3            Harumas Minyak Goreng 2L      Rp 38.500\n",
       "4         Bimoli Minyak Goreng 1000Ml      Rp 20.900"
      ]
     },
     "execution_count": 297,
     "metadata": {},
     "output_type": "execute_result"
    }
   ],
   "source": [
    "indomart.head(5)"
   ]
  },
  {
   "cell_type": "code",
   "execution_count": 298,
   "id": "c15d49b8",
   "metadata": {},
   "outputs": [],
   "source": [
    "# join\n",
    "\n",
    "frames=[astro, indomart]\n",
    "result = pd.concat(frames).reset_index(drop=True)"
   ]
  },
  {
   "cell_type": "code",
   "execution_count": 299,
   "id": "58a41bb8",
   "metadata": {},
   "outputs": [],
   "source": [
    "# Gabungkan dataset astro dan indomart\n",
    "data = pd.concat([astro, indomart], axis=1)"
   ]
  },
  {
   "cell_type": "code",
   "execution_count": 300,
   "id": "b71bc782",
   "metadata": {},
   "outputs": [
    {
     "data": {
      "text/html": [
       "<div>\n",
       "<style scoped>\n",
       "    .dataframe tbody tr th:only-of-type {\n",
       "        vertical-align: middle;\n",
       "    }\n",
       "\n",
       "    .dataframe tbody tr th {\n",
       "        vertical-align: top;\n",
       "    }\n",
       "\n",
       "    .dataframe thead th {\n",
       "        text-align: right;\n",
       "    }\n",
       "</style>\n",
       "<table border=\"1\" class=\"dataframe\">\n",
       "  <thead>\n",
       "    <tr style=\"text-align: right;\">\n",
       "      <th></th>\n",
       "      <th>astro_name</th>\n",
       "      <th>astro_price</th>\n",
       "      <th>indomart_name</th>\n",
       "      <th>indomart_price</th>\n",
       "    </tr>\n",
       "  </thead>\n",
       "  <tbody>\n",
       "    <tr>\n",
       "      <th>0</th>\n",
       "      <td>Barilla Pasta Rigatoni</td>\n",
       "      <td>Rp48.500</td>\n",
       "      <td>Barco Minyak Goreng 2L</td>\n",
       "      <td>Rp 112.500</td>\n",
       "    </tr>\n",
       "    <tr>\n",
       "      <th>1</th>\n",
       "      <td>Barilla Pasta Angel Hair</td>\n",
       "      <td>Rp40.900</td>\n",
       "      <td>Barco Minyak Goreng Refill 1000Ml</td>\n",
       "      <td>Rp 52.900</td>\n",
       "    </tr>\n",
       "    <tr>\n",
       "      <th>2</th>\n",
       "      <td>Masaya Beras Porang</td>\n",
       "      <td>Rp125.000</td>\n",
       "      <td>Happy Soya Minyak Goreng Refill 1L</td>\n",
       "      <td>Rp 52.900</td>\n",
       "    </tr>\n",
       "    <tr>\n",
       "      <th>3</th>\n",
       "      <td>Mie Sedaap Soto Dus/Mie Instan</td>\n",
       "      <td>Rp108.000</td>\n",
       "      <td>Harumas Minyak Goreng 2L</td>\n",
       "      <td>Rp 38.500</td>\n",
       "    </tr>\n",
       "    <tr>\n",
       "      <th>4</th>\n",
       "      <td>Mie Sedaap Singapore Spicy Laksa Dus/Mie Instan</td>\n",
       "      <td>Rp108.000</td>\n",
       "      <td>Bimoli Minyak Goreng 1000Ml</td>\n",
       "      <td>Rp 20.900</td>\n",
       "    </tr>\n",
       "  </tbody>\n",
       "</table>\n",
       "</div>"
      ],
      "text/plain": [
       "                                        astro_name astro_price  \\\n",
       "0                           Barilla Pasta Rigatoni    Rp48.500   \n",
       "1                         Barilla Pasta Angel Hair    Rp40.900   \n",
       "2                              Masaya Beras Porang   Rp125.000   \n",
       "3                   Mie Sedaap Soto Dus/Mie Instan   Rp108.000   \n",
       "4  Mie Sedaap Singapore Spicy Laksa Dus/Mie Instan   Rp108.000   \n",
       "\n",
       "                        indomart_name indomart_price  \n",
       "0              Barco Minyak Goreng 2L     Rp 112.500  \n",
       "1   Barco Minyak Goreng Refill 1000Ml      Rp 52.900  \n",
       "2  Happy Soya Minyak Goreng Refill 1L      Rp 52.900  \n",
       "3            Harumas Minyak Goreng 2L      Rp 38.500  \n",
       "4         Bimoli Minyak Goreng 1000Ml      Rp 20.900  "
      ]
     },
     "execution_count": 300,
     "metadata": {},
     "output_type": "execute_result"
    }
   ],
   "source": [
    "data.head(5)"
   ]
  },
  {
   "cell_type": "code",
   "execution_count": 301,
   "id": "579b5d1a",
   "metadata": {},
   "outputs": [
    {
     "name": "stdout",
     "output_type": "stream",
     "text": [
      "<class 'pandas.core.frame.DataFrame'>\n",
      "RangeIndex: 107 entries, 0 to 106\n",
      "Data columns (total 4 columns):\n",
      " #   Column          Non-Null Count  Dtype \n",
      "---  ------          --------------  ----- \n",
      " 0   astro_name      42 non-null     object\n",
      " 1   astro_price     42 non-null     object\n",
      " 2   indomart_name   107 non-null    object\n",
      " 3   indomart_price  107 non-null    object\n",
      "dtypes: object(4)\n",
      "memory usage: 3.5+ KB\n"
     ]
    }
   ],
   "source": [
    "data.info()"
   ]
  },
  {
   "cell_type": "code",
   "execution_count": 302,
   "id": "42b24d0c",
   "metadata": {},
   "outputs": [],
   "source": [
    "# Extract Astro and Indomaret data separately and standardize column names\n",
    "astro_data = data[['astro_name', 'astro_price']].rename(columns={\n",
    "    'astro_name': 'name',\n",
    "    'astro_price': 'price'\n",
    "}).dropna()\n",
    "astro_data['source'] = 'astro'\n",
    "\n",
    "indomart_data = data[['indomart_name', 'indomart_price']].rename(columns={\n",
    "    'indomart_name': 'name',\n",
    "    'indomart_price': 'price'\n",
    "}).dropna()\n",
    "indomart_data['source'] = 'indomart'"
   ]
  },
  {
   "cell_type": "code",
   "execution_count": 303,
   "id": "3480af0a",
   "metadata": {},
   "outputs": [],
   "source": [
    "# Combine the two datasets\n",
    "combined_data = pd.concat([astro_data, indomart_data], ignore_index=True)\n",
    "\n",
    "# Convert price -> numerical values (remove 'Rp' and commas)\n",
    "combined_data['price'] = combined_data['price'].replace('[Rp]', '', regex=True).astype(float)"
   ]
  },
  {
   "cell_type": "code",
   "execution_count": 304,
   "id": "35bca010",
   "metadata": {},
   "outputs": [
    {
     "name": "stdout",
     "output_type": "stream",
     "text": [
      "<class 'pandas.core.frame.DataFrame'>\n",
      "RangeIndex: 149 entries, 0 to 148\n",
      "Data columns (total 3 columns):\n",
      " #   Column  Non-Null Count  Dtype  \n",
      "---  ------  --------------  -----  \n",
      " 0   name    149 non-null    object \n",
      " 1   price   149 non-null    float64\n",
      " 2   source  149 non-null    object \n",
      "dtypes: float64(1), object(2)\n",
      "memory usage: 3.6+ KB\n"
     ]
    }
   ],
   "source": [
    "combined_data.info()"
   ]
  },
  {
   "cell_type": "code",
   "execution_count": 305,
   "id": "4583aab5",
   "metadata": {},
   "outputs": [],
   "source": [
    "combined_data.to_csv(r'combined_data.csv', index=False)"
   ]
  },
  {
   "cell_type": "code",
   "execution_count": 306,
   "id": "8e64dfa9",
   "metadata": {},
   "outputs": [
    {
     "data": {
      "text/html": [
       "<div>\n",
       "<style scoped>\n",
       "    .dataframe tbody tr th:only-of-type {\n",
       "        vertical-align: middle;\n",
       "    }\n",
       "\n",
       "    .dataframe tbody tr th {\n",
       "        vertical-align: top;\n",
       "    }\n",
       "\n",
       "    .dataframe thead th {\n",
       "        text-align: right;\n",
       "    }\n",
       "</style>\n",
       "<table border=\"1\" class=\"dataframe\">\n",
       "  <thead>\n",
       "    <tr style=\"text-align: right;\">\n",
       "      <th></th>\n",
       "      <th>name</th>\n",
       "      <th>price</th>\n",
       "      <th>source</th>\n",
       "    </tr>\n",
       "  </thead>\n",
       "  <tbody>\n",
       "    <tr>\n",
       "      <th>0</th>\n",
       "      <td>Barilla Pasta Rigatoni</td>\n",
       "      <td>48.5</td>\n",
       "      <td>astro</td>\n",
       "    </tr>\n",
       "    <tr>\n",
       "      <th>1</th>\n",
       "      <td>Barilla Pasta Angel Hair</td>\n",
       "      <td>40.9</td>\n",
       "      <td>astro</td>\n",
       "    </tr>\n",
       "    <tr>\n",
       "      <th>2</th>\n",
       "      <td>Masaya Beras Porang</td>\n",
       "      <td>125.0</td>\n",
       "      <td>astro</td>\n",
       "    </tr>\n",
       "    <tr>\n",
       "      <th>3</th>\n",
       "      <td>Mie Sedaap Soto Dus/Mie Instan</td>\n",
       "      <td>108.0</td>\n",
       "      <td>astro</td>\n",
       "    </tr>\n",
       "    <tr>\n",
       "      <th>4</th>\n",
       "      <td>Mie Sedaap Singapore Spicy Laksa Dus/Mie Instan</td>\n",
       "      <td>108.0</td>\n",
       "      <td>astro</td>\n",
       "    </tr>\n",
       "  </tbody>\n",
       "</table>\n",
       "</div>"
      ],
      "text/plain": [
       "                                              name  price source\n",
       "0                           Barilla Pasta Rigatoni   48.5  astro\n",
       "1                         Barilla Pasta Angel Hair   40.9  astro\n",
       "2                              Masaya Beras Porang  125.0  astro\n",
       "3                   Mie Sedaap Soto Dus/Mie Instan  108.0  astro\n",
       "4  Mie Sedaap Singapore Spicy Laksa Dus/Mie Instan  108.0  astro"
      ]
     },
     "execution_count": 306,
     "metadata": {},
     "output_type": "execute_result"
    }
   ],
   "source": [
    "# Display\n",
    "combined_data.head(5)"
   ]
  },
  {
   "cell_type": "code",
   "execution_count": 307,
   "id": "65de077a",
   "metadata": {},
   "outputs": [
    {
     "data": {
      "text/plain": [
       "name      0\n",
       "price     0\n",
       "source    0\n",
       "dtype: int64"
      ]
     },
     "execution_count": 307,
     "metadata": {},
     "output_type": "execute_result"
    }
   ],
   "source": [
    "missing_value = combined_data.isnull().sum()\n",
    "missing_value"
   ]
  },
  {
   "cell_type": "code",
   "execution_count": 308,
   "id": "a2acff3d",
   "metadata": {},
   "outputs": [
    {
     "data": {
      "text/html": [
       "<div>\n",
       "<style scoped>\n",
       "    .dataframe tbody tr th:only-of-type {\n",
       "        vertical-align: middle;\n",
       "    }\n",
       "\n",
       "    .dataframe tbody tr th {\n",
       "        vertical-align: top;\n",
       "    }\n",
       "\n",
       "    .dataframe thead th {\n",
       "        text-align: right;\n",
       "    }\n",
       "</style>\n",
       "<table border=\"1\" class=\"dataframe\">\n",
       "  <thead>\n",
       "    <tr style=\"text-align: right;\">\n",
       "      <th></th>\n",
       "      <th>price</th>\n",
       "    </tr>\n",
       "  </thead>\n",
       "  <tbody>\n",
       "    <tr>\n",
       "      <th>count</th>\n",
       "      <td>149.000000</td>\n",
       "    </tr>\n",
       "    <tr>\n",
       "      <th>mean</th>\n",
       "      <td>34.667383</td>\n",
       "    </tr>\n",
       "    <tr>\n",
       "      <th>std</th>\n",
       "      <td>34.775055</td>\n",
       "    </tr>\n",
       "    <tr>\n",
       "      <th>min</th>\n",
       "      <td>2.000000</td>\n",
       "    </tr>\n",
       "    <tr>\n",
       "      <th>25%</th>\n",
       "      <td>7.500000</td>\n",
       "    </tr>\n",
       "    <tr>\n",
       "      <th>50%</th>\n",
       "      <td>19.500000</td>\n",
       "    </tr>\n",
       "    <tr>\n",
       "      <th>75%</th>\n",
       "      <td>54.500000</td>\n",
       "    </tr>\n",
       "    <tr>\n",
       "      <th>max</th>\n",
       "      <td>129.000000</td>\n",
       "    </tr>\n",
       "  </tbody>\n",
       "</table>\n",
       "</div>"
      ],
      "text/plain": [
       "            price\n",
       "count  149.000000\n",
       "mean    34.667383\n",
       "std     34.775055\n",
       "min      2.000000\n",
       "25%      7.500000\n",
       "50%     19.500000\n",
       "75%     54.500000\n",
       "max    129.000000"
      ]
     },
     "execution_count": 308,
     "metadata": {},
     "output_type": "execute_result"
    }
   ],
   "source": [
    "# numerical\n",
    "combined_data.describe()"
   ]
  },
  {
   "cell_type": "code",
   "execution_count": 309,
   "id": "8a96e953",
   "metadata": {},
   "outputs": [
    {
     "data": {
      "text/plain": [
       "name       object\n",
       "price     float64\n",
       "source     object\n",
       "dtype: object"
      ]
     },
     "execution_count": 309,
     "metadata": {},
     "output_type": "execute_result"
    }
   ],
   "source": [
    "combined_data.dtypes"
   ]
  },
  {
   "cell_type": "code",
   "execution_count": 310,
   "id": "f4d9dfc2",
   "metadata": {},
   "outputs": [
    {
     "data": {
      "text/html": [
       "<div>\n",
       "<style scoped>\n",
       "    .dataframe tbody tr th:only-of-type {\n",
       "        vertical-align: middle;\n",
       "    }\n",
       "\n",
       "    .dataframe tbody tr th {\n",
       "        vertical-align: top;\n",
       "    }\n",
       "\n",
       "    .dataframe thead th {\n",
       "        text-align: right;\n",
       "    }\n",
       "</style>\n",
       "<table border=\"1\" class=\"dataframe\">\n",
       "  <thead>\n",
       "    <tr style=\"text-align: right;\">\n",
       "      <th></th>\n",
       "      <th>name</th>\n",
       "      <th>source</th>\n",
       "    </tr>\n",
       "  </thead>\n",
       "  <tbody>\n",
       "    <tr>\n",
       "      <th>count</th>\n",
       "      <td>149</td>\n",
       "      <td>149</td>\n",
       "    </tr>\n",
       "    <tr>\n",
       "      <th>unique</th>\n",
       "      <td>141</td>\n",
       "      <td>2</td>\n",
       "    </tr>\n",
       "    <tr>\n",
       "      <th>top</th>\n",
       "      <td>Barilla Pasta Rigatoni</td>\n",
       "      <td>indomart</td>\n",
       "    </tr>\n",
       "    <tr>\n",
       "      <th>freq</th>\n",
       "      <td>2</td>\n",
       "      <td>107</td>\n",
       "    </tr>\n",
       "  </tbody>\n",
       "</table>\n",
       "</div>"
      ],
      "text/plain": [
       "                          name    source\n",
       "count                      149       149\n",
       "unique                     141         2\n",
       "top     Barilla Pasta Rigatoni  indomart\n",
       "freq                         2       107"
      ]
     },
     "execution_count": 310,
     "metadata": {},
     "output_type": "execute_result"
    }
   ],
   "source": [
    "combined_data.describe(include=['object']) # categorical"
   ]
  },
  {
   "cell_type": "markdown",
   "id": "be87507d",
   "metadata": {},
   "source": [
    "## 2. Data Analysis"
   ]
  },
  {
   "cell_type": "code",
   "execution_count": 311,
   "id": "00a71090",
   "metadata": {},
   "outputs": [
    {
     "data": {
      "image/png": "[encoded data removed]",
      "text/plain": [
       "<Figure size 1500x1000 with 1 Axes>"
      ]
     },
     "metadata": {},
     "output_type": "display_data"
    }
   ],
   "source": [
    "import matplotlib.pyplot as plt\n",
    "# Plot histograms for numerical features\n",
    "numerical_columns = combined_data.select_dtypes(include=['float64']).columns\n",
    "\n",
    "combined_data[numerical_columns].hist(bins=15, figsize=(15, 10))\n",
    "# plt.suptitle('Histograms for Numerical Features')\n",
    "plt.show()\n",
    "    "
   ]
  },
  {
   "cell_type": "code",
   "execution_count": 312,
   "id": "17b48a5c",
   "metadata": {},
   "outputs": [
    {
     "data": {
      "image/png": "[encoded data removed]",
      "text/plain": [
       "<Figure size 800x400 with 1 Axes>"
      ]
     },
     "metadata": {},
     "output_type": "display_data"
    },
    {
     "data": {
      "image/png": "[encoded data removed]",
      "text/plain": [
       "<Figure size 800x400 with 1 Axes>"
      ]
     },
     "metadata": {},
     "output_type": "display_data"
    }
   ],
   "source": [
    "# categorical plot\n",
    "import seaborn as sns\n",
    "\n",
    "# Frequency plots for categorical features\n",
    "categorical_columns = combined_data.select_dtypes(include=['object']).columns\n",
    "for column in categorical_columns:\n",
    "    plt.figure(figsize=(8, 4))\n",
    "    sns.countplot(y=combined_data[column], order=combined_data[column].value_counts().index)\n",
    "    plt.title(f'Frequency of {column}')\n",
    "    plt.show()\n",
    "    "
   ]
  },
  {
   "cell_type": "markdown",
   "id": "4f00b468",
   "metadata": {},
   "source": [
    "## "
   ]
  },
  {
   "cell_type": "markdown",
   "id": "2612a4f2",
   "metadata": {},
   "source": [
    "## 3. Labelling DATASET"
   ]
  },
  {
   "cell_type": "code",
   "execution_count": 313,
   "id": "f028c9b4",
   "metadata": {},
   "outputs": [
    {
     "data": {
      "text/plain": [
       "Index(['name', 'price', 'source'], dtype='object')"
      ]
     },
     "execution_count": 313,
     "metadata": {},
     "output_type": "execute_result"
    }
   ],
   "source": [
    "combined_data.columns"
   ]
  },
  {
   "cell_type": "code",
   "execution_count": 314,
   "id": "24a95c14",
   "metadata": {},
   "outputs": [
    {
     "data": {
      "text/plain": [
       "Index(['price'], dtype='object')"
      ]
     },
     "execution_count": 314,
     "metadata": {},
     "output_type": "execute_result"
    }
   ],
   "source": [
    "combined_data.select_dtypes(include=['float64']).columns"
   ]
  },
  {
   "cell_type": "code",
   "execution_count": 315,
   "id": "0566b2e4",
   "metadata": {},
   "outputs": [
    {
     "data": {
      "text/plain": [
       "source\n",
       "indomart    107\n",
       "astro        42\n",
       "Name: count, dtype: int64"
      ]
     },
     "execution_count": 315,
     "metadata": {},
     "output_type": "execute_result"
    }
   ],
   "source": [
    "combined_data['source'].value_counts()"
   ]
  },
  {
   "cell_type": "code",
   "execution_count": 316,
   "id": "49bdc046",
   "metadata": {},
   "outputs": [
    {
     "data": {
      "text/html": [
       "<div>\n",
       "<style scoped>\n",
       "    .dataframe tbody tr th:only-of-type {\n",
       "        vertical-align: middle;\n",
       "    }\n",
       "\n",
       "    .dataframe tbody tr th {\n",
       "        vertical-align: top;\n",
       "    }\n",
       "\n",
       "    .dataframe thead th {\n",
       "        text-align: right;\n",
       "    }\n",
       "</style>\n",
       "<table border=\"1\" class=\"dataframe\">\n",
       "  <thead>\n",
       "    <tr style=\"text-align: right;\">\n",
       "      <th></th>\n",
       "      <th>name</th>\n",
       "      <th>price</th>\n",
       "      <th>source</th>\n",
       "    </tr>\n",
       "  </thead>\n",
       "  <tbody>\n",
       "    <tr>\n",
       "      <th>0</th>\n",
       "      <td>Barilla Pasta Rigatoni</td>\n",
       "      <td>48.5</td>\n",
       "      <td>astro</td>\n",
       "    </tr>\n",
       "    <tr>\n",
       "      <th>1</th>\n",
       "      <td>Barilla Pasta Angel Hair</td>\n",
       "      <td>40.9</td>\n",
       "      <td>astro</td>\n",
       "    </tr>\n",
       "    <tr>\n",
       "      <th>2</th>\n",
       "      <td>Masaya Beras Porang</td>\n",
       "      <td>125.0</td>\n",
       "      <td>astro</td>\n",
       "    </tr>\n",
       "    <tr>\n",
       "      <th>3</th>\n",
       "      <td>Mie Sedaap Soto Dus/Mie Instan</td>\n",
       "      <td>108.0</td>\n",
       "      <td>astro</td>\n",
       "    </tr>\n",
       "    <tr>\n",
       "      <th>4</th>\n",
       "      <td>Mie Sedaap Singapore Spicy Laksa Dus/Mie Instan</td>\n",
       "      <td>108.0</td>\n",
       "      <td>astro</td>\n",
       "    </tr>\n",
       "  </tbody>\n",
       "</table>\n",
       "</div>"
      ],
      "text/plain": [
       "                                              name  price source\n",
       "0                           Barilla Pasta Rigatoni   48.5  astro\n",
       "1                         Barilla Pasta Angel Hair   40.9  astro\n",
       "2                              Masaya Beras Porang  125.0  astro\n",
       "3                   Mie Sedaap Soto Dus/Mie Instan  108.0  astro\n",
       "4  Mie Sedaap Singapore Spicy Laksa Dus/Mie Instan  108.0  astro"
      ]
     },
     "execution_count": 316,
     "metadata": {},
     "output_type": "execute_result"
    }
   ],
   "source": [
    "combined_data.head()"
   ]
  },
  {
   "cell_type": "code",
   "execution_count": 317,
   "id": "dc5a0512",
   "metadata": {},
   "outputs": [],
   "source": [
    "price_quantiles = combined_data['price'].quantile([0.33, 0.66]).to_dict()\n",
    "\n",
    "# categories labelling based on quantiles\n",
    "def categorize_price(price):\n",
    "    if price <= price_quantiles[0.33]:\n",
    "        return 'murah'\n",
    "    elif price <= price_quantiles[0.66]:\n",
    "        return 'normal'\n",
    "    else:\n",
    "        return 'mahal'\n",
    "    \n",
    "combined_data['price_category'] = combined_data['price'].apply(categorize_price)"
   ]
  },
  {
   "cell_type": "code",
   "execution_count": 318,
   "id": "6a76e173",
   "metadata": {},
   "outputs": [
    {
     "data": {
      "text/html": [
       "<div>\n",
       "<style scoped>\n",
       "    .dataframe tbody tr th:only-of-type {\n",
       "        vertical-align: middle;\n",
       "    }\n",
       "\n",
       "    .dataframe tbody tr th {\n",
       "        vertical-align: top;\n",
       "    }\n",
       "\n",
       "    .dataframe thead th {\n",
       "        text-align: right;\n",
       "    }\n",
       "</style>\n",
       "<table border=\"1\" class=\"dataframe\">\n",
       "  <thead>\n",
       "    <tr style=\"text-align: right;\">\n",
       "      <th></th>\n",
       "      <th>name</th>\n",
       "      <th>price</th>\n",
       "      <th>source</th>\n",
       "      <th>price_category</th>\n",
       "    </tr>\n",
       "  </thead>\n",
       "  <tbody>\n",
       "    <tr>\n",
       "      <th>0</th>\n",
       "      <td>Barilla Pasta Rigatoni</td>\n",
       "      <td>48.5</td>\n",
       "      <td>astro</td>\n",
       "      <td>mahal</td>\n",
       "    </tr>\n",
       "    <tr>\n",
       "      <th>1</th>\n",
       "      <td>Barilla Pasta Angel Hair</td>\n",
       "      <td>40.9</td>\n",
       "      <td>astro</td>\n",
       "      <td>mahal</td>\n",
       "    </tr>\n",
       "    <tr>\n",
       "      <th>2</th>\n",
       "      <td>Masaya Beras Porang</td>\n",
       "      <td>125.0</td>\n",
       "      <td>astro</td>\n",
       "      <td>mahal</td>\n",
       "    </tr>\n",
       "    <tr>\n",
       "      <th>3</th>\n",
       "      <td>Mie Sedaap Soto Dus/Mie Instan</td>\n",
       "      <td>108.0</td>\n",
       "      <td>astro</td>\n",
       "      <td>mahal</td>\n",
       "    </tr>\n",
       "    <tr>\n",
       "      <th>4</th>\n",
       "      <td>Mie Sedaap Singapore Spicy Laksa Dus/Mie Instan</td>\n",
       "      <td>108.0</td>\n",
       "      <td>astro</td>\n",
       "      <td>mahal</td>\n",
       "    </tr>\n",
       "    <tr>\n",
       "      <th>5</th>\n",
       "      <td>Mie Sedaap Ayam Bawang Dus/Mie Instan</td>\n",
       "      <td>108.0</td>\n",
       "      <td>astro</td>\n",
       "      <td>mahal</td>\n",
       "    </tr>\n",
       "    <tr>\n",
       "      <th>6</th>\n",
       "      <td>Barilla Pasta Rigatoni</td>\n",
       "      <td>48.5</td>\n",
       "      <td>astro</td>\n",
       "      <td>mahal</td>\n",
       "    </tr>\n",
       "    <tr>\n",
       "      <th>7</th>\n",
       "      <td>Barilla Pasta Angel Hair</td>\n",
       "      <td>40.9</td>\n",
       "      <td>astro</td>\n",
       "      <td>mahal</td>\n",
       "    </tr>\n",
       "    <tr>\n",
       "      <th>8</th>\n",
       "      <td>Masaya Beras Porang</td>\n",
       "      <td>125.0</td>\n",
       "      <td>astro</td>\n",
       "      <td>mahal</td>\n",
       "    </tr>\n",
       "    <tr>\n",
       "      <th>9</th>\n",
       "      <td>Mie Sedaap Soto Dus/Mie Instan</td>\n",
       "      <td>108.0</td>\n",
       "      <td>astro</td>\n",
       "      <td>mahal</td>\n",
       "    </tr>\n",
       "    <tr>\n",
       "      <th>10</th>\n",
       "      <td>Mie Sedaap Singapore Spicy Laksa Dus/Mie Instan</td>\n",
       "      <td>108.0</td>\n",
       "      <td>astro</td>\n",
       "      <td>mahal</td>\n",
       "    </tr>\n",
       "    <tr>\n",
       "      <th>11</th>\n",
       "      <td>Mie Sedaap Ayam Bawang Dus/Mie Instan</td>\n",
       "      <td>108.0</td>\n",
       "      <td>astro</td>\n",
       "      <td>mahal</td>\n",
       "    </tr>\n",
       "    <tr>\n",
       "      <th>12</th>\n",
       "      <td>Indomie Goreng Special Mie Instan</td>\n",
       "      <td>3.0</td>\n",
       "      <td>astro</td>\n",
       "      <td>murah</td>\n",
       "    </tr>\n",
       "    <tr>\n",
       "      <th>13</th>\n",
       "      <td>Indomie Kuah Soto Mie Mie Instan</td>\n",
       "      <td>3.3</td>\n",
       "      <td>astro</td>\n",
       "      <td>murah</td>\n",
       "    </tr>\n",
       "    <tr>\n",
       "      <th>14</th>\n",
       "      <td>Indomie Goreng Special Jumbo Mie Instan</td>\n",
       "      <td>4.3</td>\n",
       "      <td>astro</td>\n",
       "      <td>murah</td>\n",
       "    </tr>\n",
       "    <tr>\n",
       "      <th>15</th>\n",
       "      <td>Indomie Kuah Ayam Bawang Mie Instan</td>\n",
       "      <td>3.3</td>\n",
       "      <td>astro</td>\n",
       "      <td>murah</td>\n",
       "    </tr>\n",
       "    <tr>\n",
       "      <th>16</th>\n",
       "      <td>Indomie Kuah Kari Ayam Mie Instan</td>\n",
       "      <td>3.4</td>\n",
       "      <td>astro</td>\n",
       "      <td>murah</td>\n",
       "    </tr>\n",
       "    <tr>\n",
       "      <th>17</th>\n",
       "      <td>Indomie Kuah Ayam Spesial Mie Instan</td>\n",
       "      <td>3.3</td>\n",
       "      <td>astro</td>\n",
       "      <td>murah</td>\n",
       "    </tr>\n",
       "    <tr>\n",
       "      <th>18</th>\n",
       "      <td>Indomie Goreng Rendang Mie Instan</td>\n",
       "      <td>3.6</td>\n",
       "      <td>astro</td>\n",
       "      <td>murah</td>\n",
       "    </tr>\n",
       "    <tr>\n",
       "      <th>19</th>\n",
       "      <td>Indomie Goreng Ayam Panggang Jumbo Mie Instan</td>\n",
       "      <td>4.5</td>\n",
       "      <td>astro</td>\n",
       "      <td>murah</td>\n",
       "    </tr>\n",
       "  </tbody>\n",
       "</table>\n",
       "</div>"
      ],
      "text/plain": [
       "                                               name  price source  \\\n",
       "0                            Barilla Pasta Rigatoni   48.5  astro   \n",
       "1                          Barilla Pasta Angel Hair   40.9  astro   \n",
       "2                               Masaya Beras Porang  125.0  astro   \n",
       "3                    Mie Sedaap Soto Dus/Mie Instan  108.0  astro   \n",
       "4   Mie Sedaap Singapore Spicy Laksa Dus/Mie Instan  108.0  astro   \n",
       "5             Mie Sedaap Ayam Bawang Dus/Mie Instan  108.0  astro   \n",
       "6                            Barilla Pasta Rigatoni   48.5  astro   \n",
       "7                          Barilla Pasta Angel Hair   40.9  astro   \n",
       "8                               Masaya Beras Porang  125.0  astro   \n",
       "9                    Mie Sedaap Soto Dus/Mie Instan  108.0  astro   \n",
       "10  Mie Sedaap Singapore Spicy Laksa Dus/Mie Instan  108.0  astro   \n",
       "11            Mie Sedaap Ayam Bawang Dus/Mie Instan  108.0  astro   \n",
       "12                Indomie Goreng Special Mie Instan    3.0  astro   \n",
       "13                 Indomie Kuah Soto Mie Mie Instan    3.3  astro   \n",
       "14          Indomie Goreng Special Jumbo Mie Instan    4.3  astro   \n",
       "15              Indomie Kuah Ayam Bawang Mie Instan    3.3  astro   \n",
       "16                Indomie Kuah Kari Ayam Mie Instan    3.4  astro   \n",
       "17             Indomie Kuah Ayam Spesial Mie Instan    3.3  astro   \n",
       "18                Indomie Goreng Rendang Mie Instan    3.6  astro   \n",
       "19    Indomie Goreng Ayam Panggang Jumbo Mie Instan    4.5  astro   \n",
       "\n",
       "   price_category  \n",
       "0           mahal  \n",
       "1           mahal  \n",
       "2           mahal  \n",
       "3           mahal  \n",
       "4           mahal  \n",
       "5           mahal  \n",
       "6           mahal  \n",
       "7           mahal  \n",
       "8           mahal  \n",
       "9           mahal  \n",
       "10          mahal  \n",
       "11          mahal  \n",
       "12          murah  \n",
       "13          murah  \n",
       "14          murah  \n",
       "15          murah  \n",
       "16          murah  \n",
       "17          murah  \n",
       "18          murah  \n",
       "19          murah  "
      ]
     },
     "execution_count": 318,
     "metadata": {},
     "output_type": "execute_result"
    }
   ],
   "source": [
    "combined_data.head(20)"
   ]
  },
  {
   "cell_type": "markdown",
   "id": "46943aec",
   "metadata": {},
   "source": [
    "## 4. Preprocessing & splitting "
   ]
  },
  {
   "cell_type": "code",
   "execution_count": 319,
   "id": "e32a99e0",
   "metadata": {},
   "outputs": [
    {
     "data": {
      "text/html": [
       "<div>\n",
       "<style scoped>\n",
       "    .dataframe tbody tr th:only-of-type {\n",
       "        vertical-align: middle;\n",
       "    }\n",
       "\n",
       "    .dataframe tbody tr th {\n",
       "        vertical-align: top;\n",
       "    }\n",
       "\n",
       "    .dataframe thead th {\n",
       "        text-align: right;\n",
       "    }\n",
       "</style>\n",
       "<table border=\"1\" class=\"dataframe\">\n",
       "  <thead>\n",
       "    <tr style=\"text-align: right;\">\n",
       "      <th></th>\n",
       "      <th>price</th>\n",
       "    </tr>\n",
       "  </thead>\n",
       "  <tbody>\n",
       "    <tr>\n",
       "      <th>0</th>\n",
       "      <td>48.5</td>\n",
       "    </tr>\n",
       "    <tr>\n",
       "      <th>1</th>\n",
       "      <td>40.9</td>\n",
       "    </tr>\n",
       "    <tr>\n",
       "      <th>2</th>\n",
       "      <td>125.0</td>\n",
       "    </tr>\n",
       "    <tr>\n",
       "      <th>3</th>\n",
       "      <td>108.0</td>\n",
       "    </tr>\n",
       "    <tr>\n",
       "      <th>4</th>\n",
       "      <td>108.0</td>\n",
       "    </tr>\n",
       "    <tr>\n",
       "      <th>...</th>\n",
       "      <td>...</td>\n",
       "    </tr>\n",
       "    <tr>\n",
       "      <th>144</th>\n",
       "      <td>56.6</td>\n",
       "    </tr>\n",
       "    <tr>\n",
       "      <th>145</th>\n",
       "      <td>59.9</td>\n",
       "    </tr>\n",
       "    <tr>\n",
       "      <th>146</th>\n",
       "      <td>13.5</td>\n",
       "    </tr>\n",
       "    <tr>\n",
       "      <th>147</th>\n",
       "      <td>7.5</td>\n",
       "    </tr>\n",
       "    <tr>\n",
       "      <th>148</th>\n",
       "      <td>7.5</td>\n",
       "    </tr>\n",
       "  </tbody>\n",
       "</table>\n",
       "<p>149 rows × 1 columns</p>\n",
       "</div>"
      ],
      "text/plain": [
       "     price\n",
       "0     48.5\n",
       "1     40.9\n",
       "2    125.0\n",
       "3    108.0\n",
       "4    108.0\n",
       "..     ...\n",
       "144   56.6\n",
       "145   59.9\n",
       "146   13.5\n",
       "147    7.5\n",
       "148    7.5\n",
       "\n",
       "[149 rows x 1 columns]"
      ]
     },
     "execution_count": 319,
     "metadata": {},
     "output_type": "execute_result"
    }
   ],
   "source": [
    "combined_data.select_dtypes(include=['float64'])"
   ]
  },
  {
   "cell_type": "code",
   "execution_count": 320,
   "id": "38762742",
   "metadata": {},
   "outputs": [
    {
     "data": {
      "text/html": [
       "<div>\n",
       "<style scoped>\n",
       "    .dataframe tbody tr th:only-of-type {\n",
       "        vertical-align: middle;\n",
       "    }\n",
       "\n",
       "    .dataframe tbody tr th {\n",
       "        vertical-align: top;\n",
       "    }\n",
       "\n",
       "    .dataframe thead th {\n",
       "        text-align: right;\n",
       "    }\n",
       "</style>\n",
       "<table border=\"1\" class=\"dataframe\">\n",
       "  <thead>\n",
       "    <tr style=\"text-align: right;\">\n",
       "      <th></th>\n",
       "      <th>name</th>\n",
       "      <th>source</th>\n",
       "      <th>price_category</th>\n",
       "    </tr>\n",
       "  </thead>\n",
       "  <tbody>\n",
       "    <tr>\n",
       "      <th>0</th>\n",
       "      <td>Barilla Pasta Rigatoni</td>\n",
       "      <td>astro</td>\n",
       "      <td>mahal</td>\n",
       "    </tr>\n",
       "    <tr>\n",
       "      <th>1</th>\n",
       "      <td>Barilla Pasta Angel Hair</td>\n",
       "      <td>astro</td>\n",
       "      <td>mahal</td>\n",
       "    </tr>\n",
       "    <tr>\n",
       "      <th>2</th>\n",
       "      <td>Masaya Beras Porang</td>\n",
       "      <td>astro</td>\n",
       "      <td>mahal</td>\n",
       "    </tr>\n",
       "    <tr>\n",
       "      <th>3</th>\n",
       "      <td>Mie Sedaap Soto Dus/Mie Instan</td>\n",
       "      <td>astro</td>\n",
       "      <td>mahal</td>\n",
       "    </tr>\n",
       "    <tr>\n",
       "      <th>4</th>\n",
       "      <td>Mie Sedaap Singapore Spicy Laksa Dus/Mie Instan</td>\n",
       "      <td>astro</td>\n",
       "      <td>mahal</td>\n",
       "    </tr>\n",
       "    <tr>\n",
       "      <th>...</th>\n",
       "      <td>...</td>\n",
       "      <td>...</td>\n",
       "      <td>...</td>\n",
       "    </tr>\n",
       "    <tr>\n",
       "      <th>144</th>\n",
       "      <td>Fiesta Spicy Karage 400G</td>\n",
       "      <td>indomart</td>\n",
       "      <td>mahal</td>\n",
       "    </tr>\n",
       "    <tr>\n",
       "      <th>145</th>\n",
       "      <td>Fiesta Spicy Wing 400G</td>\n",
       "      <td>indomart</td>\n",
       "      <td>mahal</td>\n",
       "    </tr>\n",
       "    <tr>\n",
       "      <th>146</th>\n",
       "      <td>Nutrijell Pudding Susu Powder Korean Strawberr...</td>\n",
       "      <td>indomart</td>\n",
       "      <td>normal</td>\n",
       "    </tr>\n",
       "    <tr>\n",
       "      <th>147</th>\n",
       "      <td>Tudung Bumbu Nasi Padang Rendang 27G</td>\n",
       "      <td>indomart</td>\n",
       "      <td>murah</td>\n",
       "    </tr>\n",
       "    <tr>\n",
       "      <th>148</th>\n",
       "      <td>Tudung Bumbu Nasi Uduk 27G</td>\n",
       "      <td>indomart</td>\n",
       "      <td>murah</td>\n",
       "    </tr>\n",
       "  </tbody>\n",
       "</table>\n",
       "<p>149 rows × 3 columns</p>\n",
       "</div>"
      ],
      "text/plain": [
       "                                                  name    source  \\\n",
       "0                               Barilla Pasta Rigatoni     astro   \n",
       "1                             Barilla Pasta Angel Hair     astro   \n",
       "2                                  Masaya Beras Porang     astro   \n",
       "3                       Mie Sedaap Soto Dus/Mie Instan     astro   \n",
       "4      Mie Sedaap Singapore Spicy Laksa Dus/Mie Instan     astro   \n",
       "..                                                 ...       ...   \n",
       "144                           Fiesta Spicy Karage 400G  indomart   \n",
       "145                             Fiesta Spicy Wing 400G  indomart   \n",
       "146  Nutrijell Pudding Susu Powder Korean Strawberr...  indomart   \n",
       "147               Tudung Bumbu Nasi Padang Rendang 27G  indomart   \n",
       "148                         Tudung Bumbu Nasi Uduk 27G  indomart   \n",
       "\n",
       "    price_category  \n",
       "0            mahal  \n",
       "1            mahal  \n",
       "2            mahal  \n",
       "3            mahal  \n",
       "4            mahal  \n",
       "..             ...  \n",
       "144          mahal  \n",
       "145          mahal  \n",
       "146         normal  \n",
       "147          murah  \n",
       "148          murah  \n",
       "\n",
       "[149 rows x 3 columns]"
      ]
     },
     "execution_count": 320,
     "metadata": {},
     "output_type": "execute_result"
    }
   ],
   "source": [
    "combined_data.select_dtypes(include=['object'])"
   ]
  },
  {
   "cell_type": "code",
   "execution_count": 321,
   "id": "08214b50",
   "metadata": {},
   "outputs": [],
   "source": [
    "combined_data = combined_data.drop(columns=['name'])"
   ]
  },
  {
   "cell_type": "code",
   "execution_count": 322,
   "id": "118f9122",
   "metadata": {},
   "outputs": [],
   "source": [
    "x = combined_data.drop(columns=['price_category'])\n",
    "y = combined_data['price_category']"
   ]
  },
  {
   "cell_type": "code",
   "execution_count": 323,
   "id": "9497432f",
   "metadata": {},
   "outputs": [
    {
     "data": {
      "text/plain": [
       "(149, 2)"
      ]
     },
     "execution_count": 323,
     "metadata": {},
     "output_type": "execute_result"
    }
   ],
   "source": [
    "x.shape\n"
   ]
  },
  {
   "cell_type": "code",
   "execution_count": 324,
   "id": "23f9d3f5",
   "metadata": {},
   "outputs": [
    {
     "data": {
      "text/plain": [
       "(149,)"
      ]
     },
     "execution_count": 324,
     "metadata": {},
     "output_type": "execute_result"
    }
   ],
   "source": [
    "y.shape"
   ]
  },
  {
   "cell_type": "markdown",
   "id": "62779970",
   "metadata": {},
   "source": [
    "### encode categorical data"
   ]
  },
  {
   "cell_type": "code",
   "execution_count": 325,
   "id": "6dba6d6b",
   "metadata": {},
   "outputs": [],
   "source": [
    "# splitting\n",
    "# Train test = 60 : 40\n",
    "\n",
    "x_train, x_test, y_train, y_test = train_test_split(x, y, random_state=42, test_size=0.4)"
   ]
  },
  {
   "cell_type": "code",
   "execution_count": 326,
   "id": "0dbed093",
   "metadata": {},
   "outputs": [],
   "source": [
    "from sklearn.preprocessing import LabelEncoder\n",
    "# categorical_columns = combined_data.select_dtypes(include=['object']).columns\n",
    "\n",
    "label_encoder = LabelEncoder()\n",
    "combined_data['source'] = label_encoder.fit_transform(combined_data['source'])"
   ]
  },
  {
   "cell_type": "code",
   "execution_count": 327,
   "id": "c6e33549",
   "metadata": {},
   "outputs": [
    {
     "data": {
      "text/html": [
       "<div>\n",
       "<style scoped>\n",
       "    .dataframe tbody tr th:only-of-type {\n",
       "        vertical-align: middle;\n",
       "    }\n",
       "\n",
       "    .dataframe tbody tr th {\n",
       "        vertical-align: top;\n",
       "    }\n",
       "\n",
       "    .dataframe thead th {\n",
       "        text-align: right;\n",
       "    }\n",
       "</style>\n",
       "<table border=\"1\" class=\"dataframe\">\n",
       "  <thead>\n",
       "    <tr style=\"text-align: right;\">\n",
       "      <th></th>\n",
       "      <th>price</th>\n",
       "      <th>source</th>\n",
       "      <th>price_category</th>\n",
       "    </tr>\n",
       "  </thead>\n",
       "  <tbody>\n",
       "    <tr>\n",
       "      <th>0</th>\n",
       "      <td>48.5</td>\n",
       "      <td>0</td>\n",
       "      <td>mahal</td>\n",
       "    </tr>\n",
       "    <tr>\n",
       "      <th>1</th>\n",
       "      <td>40.9</td>\n",
       "      <td>0</td>\n",
       "      <td>mahal</td>\n",
       "    </tr>\n",
       "    <tr>\n",
       "      <th>2</th>\n",
       "      <td>125.0</td>\n",
       "      <td>0</td>\n",
       "      <td>mahal</td>\n",
       "    </tr>\n",
       "    <tr>\n",
       "      <th>3</th>\n",
       "      <td>108.0</td>\n",
       "      <td>0</td>\n",
       "      <td>mahal</td>\n",
       "    </tr>\n",
       "    <tr>\n",
       "      <th>4</th>\n",
       "      <td>108.0</td>\n",
       "      <td>0</td>\n",
       "      <td>mahal</td>\n",
       "    </tr>\n",
       "  </tbody>\n",
       "</table>\n",
       "</div>"
      ],
      "text/plain": [
       "   price  source price_category\n",
       "0   48.5       0          mahal\n",
       "1   40.9       0          mahal\n",
       "2  125.0       0          mahal\n",
       "3  108.0       0          mahal\n",
       "4  108.0       0          mahal"
      ]
     },
     "execution_count": 327,
     "metadata": {},
     "output_type": "execute_result"
    }
   ],
   "source": [
    "combined_data.head()"
   ]
  },
  {
   "cell_type": "code",
   "execution_count": 328,
   "id": "45132d79",
   "metadata": {},
   "outputs": [
    {
     "name": "stdout",
     "output_type": "stream",
     "text": [
      "[0 0 0 0 0 0 0 0 0 0 0 0 1 1 1 1 1 1 1 1 0 0 0 0 0 0 2 2 2 2 1 2 2 2 2 2 2\n",
      " 2 1 2 1 1 0 0 0 0 2 2 0 0 0 1 1 1 2 2 1 2 2 2 0 0 0 0 2 2 0 0 0 1 1 1 1 1\n",
      " 1 1 1 1 2 2 1 1 2 2 1 2 1 2 2 2 2 2 2 0 0 0 0 0 0 0 0 0 0 0 0 2 2 2 1 1 2\n",
      " 2 2 2 2 1 1 1 1 1 1 2 1 1 1 1 1 1 1 1 2 1 1 1 2 2 2 0 2 0 0 0 2 0 0 0 2 1\n",
      " 1]\n"
     ]
    }
   ],
   "source": [
    "\n",
    "label_encoder = LabelEncoder()\n",
    "\n",
    "label_encoder.fit(y)\n",
    "y=label_encoder.transform(y)\n",
    "\n",
    "# classification\n",
    "classes = label_encoder.classes_ \n",
    "print(y)"
   ]
  },
  {
   "cell_type": "code",
   "execution_count": 329,
   "id": "abf9c565",
   "metadata": {},
   "outputs": [
    {
     "name": "stdout",
     "output_type": "stream",
     "text": [
      "(89, 2) (60, 2)\n"
     ]
    }
   ],
   "source": [
    "print(x_train.shape, x_test.shape)"
   ]
  },
  {
   "cell_type": "code",
   "execution_count": 330,
   "id": "1994f0bf",
   "metadata": {},
   "outputs": [],
   "source": [
    "# categorical_columns = combined_data.select_dtypes(include=['object']).columns\n",
    "\n",
    "# for col in categorical_columns:\n",
    "# for col in categorical_columns:\n",
    "#     if col in x_train.columns:\n",
    "x_train['source'] = label_encoder.fit_transform(x_train['source'].astype(str))\n",
    "x_test['source'] = label_encoder.transform(x_test['source'].astype(str))"
   ]
  },
  {
   "cell_type": "code",
   "execution_count": 331,
   "id": "01a580e4",
   "metadata": {},
   "outputs": [
    {
     "data": {
      "text/html": [
       "<div>\n",
       "<style scoped>\n",
       "    .dataframe tbody tr th:only-of-type {\n",
       "        vertical-align: middle;\n",
       "    }\n",
       "\n",
       "    .dataframe tbody tr th {\n",
       "        vertical-align: top;\n",
       "    }\n",
       "\n",
       "    .dataframe thead th {\n",
       "        text-align: right;\n",
       "    }\n",
       "</style>\n",
       "<table border=\"1\" class=\"dataframe\">\n",
       "  <thead>\n",
       "    <tr style=\"text-align: right;\">\n",
       "      <th></th>\n",
       "      <th>price</th>\n",
       "      <th>source</th>\n",
       "    </tr>\n",
       "  </thead>\n",
       "  <tbody>\n",
       "    <tr>\n",
       "      <th>122</th>\n",
       "      <td>10.6</td>\n",
       "      <td>1</td>\n",
       "    </tr>\n",
       "    <tr>\n",
       "      <th>24</th>\n",
       "      <td>97.5</td>\n",
       "      <td>0</td>\n",
       "    </tr>\n",
       "    <tr>\n",
       "      <th>25</th>\n",
       "      <td>129.0</td>\n",
       "      <td>0</td>\n",
       "    </tr>\n",
       "    <tr>\n",
       "      <th>23</th>\n",
       "      <td>120.0</td>\n",
       "      <td>0</td>\n",
       "    </tr>\n",
       "    <tr>\n",
       "      <th>93</th>\n",
       "      <td>58.0</td>\n",
       "      <td>1</td>\n",
       "    </tr>\n",
       "  </tbody>\n",
       "</table>\n",
       "</div>"
      ],
      "text/plain": [
       "     price  source\n",
       "122   10.6       1\n",
       "24    97.5       0\n",
       "25   129.0       0\n",
       "23   120.0       0\n",
       "93    58.0       1"
      ]
     },
     "execution_count": 331,
     "metadata": {},
     "output_type": "execute_result"
    }
   ],
   "source": [
    "x_train.head()"
   ]
  },
  {
   "cell_type": "markdown",
   "id": "fdec2eb9",
   "metadata": {},
   "source": [
    "### normalize data"
   ]
  },
  {
   "cell_type": "code",
   "execution_count": 332,
   "id": "e7d5da0d",
   "metadata": {},
   "outputs": [
    {
     "data": {
      "text/plain": [
       "array([[<Axes: title={'center': 'price'}>,\n",
       "        <Axes: title={'center': 'source'}>]], dtype=object)"
      ]
     },
     "execution_count": 332,
     "metadata": {},
     "output_type": "execute_result"
    },
    {
     "data": {
      "image/png": "[encoded data removed]",
      "text/plain": [
       "<Figure size 640x480 with 2 Axes>"
      ]
     },
     "metadata": {},
     "output_type": "display_data"
    }
   ],
   "source": [
    "combined_data.hist()"
   ]
  },
  {
   "cell_type": "code",
   "execution_count": 333,
   "id": "f9e911bf",
   "metadata": {},
   "outputs": [
    {
     "data": {
      "text/html": [
       "<div>\n",
       "<style scoped>\n",
       "    .dataframe tbody tr th:only-of-type {\n",
       "        vertical-align: middle;\n",
       "    }\n",
       "\n",
       "    .dataframe tbody tr th {\n",
       "        vertical-align: top;\n",
       "    }\n",
       "\n",
       "    .dataframe thead th {\n",
       "        text-align: right;\n",
       "    }\n",
       "</style>\n",
       "<table border=\"1\" class=\"dataframe\">\n",
       "  <thead>\n",
       "    <tr style=\"text-align: right;\">\n",
       "      <th></th>\n",
       "      <th>price</th>\n",
       "      <th>source</th>\n",
       "    </tr>\n",
       "  </thead>\n",
       "  <tbody>\n",
       "    <tr>\n",
       "      <th>122</th>\n",
       "      <td>10.6</td>\n",
       "      <td>1</td>\n",
       "    </tr>\n",
       "    <tr>\n",
       "      <th>24</th>\n",
       "      <td>97.5</td>\n",
       "      <td>0</td>\n",
       "    </tr>\n",
       "    <tr>\n",
       "      <th>25</th>\n",
       "      <td>129.0</td>\n",
       "      <td>0</td>\n",
       "    </tr>\n",
       "    <tr>\n",
       "      <th>23</th>\n",
       "      <td>120.0</td>\n",
       "      <td>0</td>\n",
       "    </tr>\n",
       "    <tr>\n",
       "      <th>93</th>\n",
       "      <td>58.0</td>\n",
       "      <td>1</td>\n",
       "    </tr>\n",
       "  </tbody>\n",
       "</table>\n",
       "</div>"
      ],
      "text/plain": [
       "     price  source\n",
       "122   10.6       1\n",
       "24    97.5       0\n",
       "25   129.0       0\n",
       "23   120.0       0\n",
       "93    58.0       1"
      ]
     },
     "execution_count": 333,
     "metadata": {},
     "output_type": "execute_result"
    }
   ],
   "source": [
    "x_train.head()"
   ]
  },
  {
   "cell_type": "code",
   "execution_count": 334,
   "id": "192cc7bb",
   "metadata": {},
   "outputs": [],
   "source": [
    "scaler = MinMaxScaler()\n",
    "x_train[['price']] = scaler.fit_transform(x_train[['price']])\n",
    "x_test[['price']] = scaler.transform(x_test[['price']])"
   ]
  },
  {
   "cell_type": "code",
   "execution_count": 335,
   "id": "6324b022",
   "metadata": {},
   "outputs": [
    {
     "name": "stdout",
     "output_type": "stream",
     "text": [
      "           price     source\n",
      "count  89.000000  89.000000\n",
      "mean    0.264877   0.752809\n",
      "std     0.280892   0.433823\n",
      "min     0.000000   0.000000\n",
      "25%     0.057799   1.000000\n",
      "50%     0.144101   1.000000\n",
      "75%     0.433888   1.000000\n",
      "max     1.000000   1.000000\n",
      "           price     source\n",
      "count  60.000000  60.000000\n",
      "mean    0.235648   0.666667\n",
      "std     0.268268   0.475383\n",
      "min    -0.005542   0.000000\n",
      "25%     0.033254   0.000000\n",
      "50%     0.121140   1.000000\n",
      "75%     0.392122   1.000000\n",
      "max     0.963579   1.000000\n"
     ]
    }
   ],
   "source": [
    "print(x_train.describe())\n",
    "print(x_test.describe())"
   ]
  },
  {
   "cell_type": "code",
   "execution_count": 336,
   "id": "c7e47bbe",
   "metadata": {},
   "outputs": [
    {
     "name": "stdout",
     "output_type": "stream",
     "text": [
      "['mahal' 'murah' 'normal']\n",
      "[0 0 0 0 0 0 0 0 0 0 0 0 1 1 1 1 1 1 1 1 0 0 0 0 0 0 2 2 2 2 1 2 2 2 2 2 2\n",
      " 2 1 2 1 1 0 0 0 0 2 2 0 0 0 1 1 1 2 2 1 2 2 2 0 0 0 0 2 2 0 0 0 1 1 1 1 1\n",
      " 1 1 1 1 2 2 1 1 2 2 1 2 1 2 2 2 2 2 2 0 0 0 0 0 0 0 0 0 0 0 0 2 2 2 1 1 2\n",
      " 2 2 2 2 1 1 1 1 1 1 2 1 1 1 1 1 1 1 1 2 1 1 1 2 2 2 0 2]\n"
     ]
    }
   ],
   "source": [
    "print(classes)\n",
    "print(y[:-10])  # Contoh hasil encoding"
   ]
  },
  {
   "cell_type": "code",
   "execution_count": 337,
   "id": "58b04030",
   "metadata": {},
   "outputs": [],
   "source": [
    "from imblearn.over_sampling import SMOTE\n",
    "\n",
    "smote = SMOTE(random_state=42)\n",
    "x_train_balanced, y_train_balanced = smote.fit_resample(x_train, y_train)\n"
   ]
  },
  {
   "cell_type": "code",
   "execution_count": 338,
   "id": "aadbced1",
   "metadata": {},
   "outputs": [
    {
     "data": {
      "text/html": [
       "<div>\n",
       "<style scoped>\n",
       "    .dataframe tbody tr th:only-of-type {\n",
       "        vertical-align: middle;\n",
       "    }\n",
       "\n",
       "    .dataframe tbody tr th {\n",
       "        vertical-align: top;\n",
       "    }\n",
       "\n",
       "    .dataframe thead th {\n",
       "        text-align: right;\n",
       "    }\n",
       "</style>\n",
       "<table border=\"1\" class=\"dataframe\">\n",
       "  <thead>\n",
       "    <tr style=\"text-align: right;\">\n",
       "      <th></th>\n",
       "      <th>price</th>\n",
       "      <th>source</th>\n",
       "      <th>price_category</th>\n",
       "    </tr>\n",
       "  </thead>\n",
       "  <tbody>\n",
       "    <tr>\n",
       "      <th>0</th>\n",
       "      <td>48.5</td>\n",
       "      <td>0</td>\n",
       "      <td>mahal</td>\n",
       "    </tr>\n",
       "    <tr>\n",
       "      <th>1</th>\n",
       "      <td>40.9</td>\n",
       "      <td>0</td>\n",
       "      <td>mahal</td>\n",
       "    </tr>\n",
       "    <tr>\n",
       "      <th>2</th>\n",
       "      <td>125.0</td>\n",
       "      <td>0</td>\n",
       "      <td>mahal</td>\n",
       "    </tr>\n",
       "    <tr>\n",
       "      <th>3</th>\n",
       "      <td>108.0</td>\n",
       "      <td>0</td>\n",
       "      <td>mahal</td>\n",
       "    </tr>\n",
       "    <tr>\n",
       "      <th>4</th>\n",
       "      <td>108.0</td>\n",
       "      <td>0</td>\n",
       "      <td>mahal</td>\n",
       "    </tr>\n",
       "    <tr>\n",
       "      <th>5</th>\n",
       "      <td>108.0</td>\n",
       "      <td>0</td>\n",
       "      <td>mahal</td>\n",
       "    </tr>\n",
       "    <tr>\n",
       "      <th>6</th>\n",
       "      <td>48.5</td>\n",
       "      <td>0</td>\n",
       "      <td>mahal</td>\n",
       "    </tr>\n",
       "    <tr>\n",
       "      <th>7</th>\n",
       "      <td>40.9</td>\n",
       "      <td>0</td>\n",
       "      <td>mahal</td>\n",
       "    </tr>\n",
       "    <tr>\n",
       "      <th>8</th>\n",
       "      <td>125.0</td>\n",
       "      <td>0</td>\n",
       "      <td>mahal</td>\n",
       "    </tr>\n",
       "  </tbody>\n",
       "</table>\n",
       "</div>"
      ],
      "text/plain": [
       "   price  source price_category\n",
       "0   48.5       0          mahal\n",
       "1   40.9       0          mahal\n",
       "2  125.0       0          mahal\n",
       "3  108.0       0          mahal\n",
       "4  108.0       0          mahal\n",
       "5  108.0       0          mahal\n",
       "6   48.5       0          mahal\n",
       "7   40.9       0          mahal\n",
       "8  125.0       0          mahal"
      ]
     },
     "execution_count": 338,
     "metadata": {},
     "output_type": "execute_result"
    }
   ],
   "source": [
    "combined_data.head(9)"
   ]
  },
  {
   "cell_type": "code",
   "execution_count": 339,
   "id": "37b9ff88",
   "metadata": {},
   "outputs": [],
   "source": [
    "combined_data['price_category'] = label_encoder.fit_transform(combined_data['price_category'])"
   ]
  },
  {
   "cell_type": "code",
   "execution_count": 340,
   "id": "673baa37",
   "metadata": {},
   "outputs": [
    {
     "name": "stdout",
     "output_type": "stream",
     "text": [
      "                   price    source  price_category\n",
      "price           1.000000 -0.285045       -0.653350\n",
      "source         -0.285045  1.000000        0.094355\n",
      "price_category -0.653350  0.094355        1.000000\n"
     ]
    }
   ],
   "source": [
    "print(combined_data.corr())"
   ]
  },
  {
   "cell_type": "code",
   "execution_count": 341,
   "id": "0846331f",
   "metadata": {},
   "outputs": [
    {
     "name": "stdout",
     "output_type": "stream",
     "text": [
      "Distribusi y_train: price_category\n",
      "mahal     32\n",
      "normal    31\n",
      "murah     26\n",
      "Name: count, dtype: int64\n",
      "Distribusi y_test: price_category\n",
      "murah     24\n",
      "mahal     19\n",
      "normal    17\n",
      "Name: count, dtype: int64\n"
     ]
    }
   ],
   "source": [
    "print(\"Distribusi y_train:\", pd.Series(y_train).value_counts())\n",
    "print(\"Distribusi y_test:\", pd.Series(y_test).value_counts())"
   ]
  },
  {
   "cell_type": "code",
   "execution_count": 342,
   "id": "109b8903",
   "metadata": {},
   "outputs": [
    {
     "name": "stdout",
     "output_type": "stream",
     "text": [
      "set()\n"
     ]
    }
   ],
   "source": [
    "print(set(x_train.index).intersection(set(x_test.index)))  # Harus kosong"
   ]
  },
  {
   "cell_type": "code",
   "execution_count": 343,
   "id": "56de344c",
   "metadata": {},
   "outputs": [],
   "source": [
    "x_train['price'] += np.random.normal(0, 0.01, size=x_train['price'].shape)"
   ]
  },
  {
   "cell_type": "markdown",
   "id": "4a3c1f14",
   "metadata": {},
   "source": [
    "## 5. Classification"
   ]
  },
  {
   "cell_type": "markdown",
   "id": "251ead2a",
   "metadata": {},
   "source": [
    "### Logistic Regression"
   ]
  },
  {
   "cell_type": "code",
   "execution_count": 344,
   "id": "7194eb49",
   "metadata": {},
   "outputs": [
    {
     "name": "stdout",
     "output_type": "stream",
     "text": [
      "              precision    recall  f1-score   support\n",
      "\n",
      "       mahal       1.00      0.95      0.97        19\n",
      "       murah       0.75      1.00      0.86        24\n",
      "      normal       0.90      0.53      0.67        17\n",
      "\n",
      "    accuracy                           0.85        60\n",
      "   macro avg       0.88      0.83      0.83        60\n",
      "weighted avg       0.87      0.85      0.84        60\n",
      "\n"
     ]
    }
   ],
   "source": [
    "from sklearn.linear_model import LogisticRegression\n",
    "\n",
    "LR = LogisticRegression()\n",
    "LR.fit(x_train_balanced, y_train_balanced)\n",
    "y_pred = LR.predict(x_test)\n",
    "print(classification_report(y_test, y_pred))"
   ]
  },
  {
   "cell_type": "code",
   "execution_count": 345,
   "id": "0976b045",
   "metadata": {},
   "outputs": [
    {
     "name": "stdout",
     "output_type": "stream",
     "text": [
      "Logistic Regression Accuracy: 0.85\n"
     ]
    }
   ],
   "source": [
    "accuracy = accuracy_score(y_test, y_pred)\n",
    "print(f\"Logistic Regression Accuracy: {accuracy:.2f}\")"
   ]
  },
  {
   "cell_type": "code",
   "execution_count": 346,
   "id": "2065f4d0",
   "metadata": {},
   "outputs": [
    {
     "data": {
      "image/png": "[encoded data removed]",
      "text/plain": [
       "<Figure size 1000x800 with 1 Axes>"
      ]
     },
     "metadata": {},
     "output_type": "display_data"
    }
   ],
   "source": [
    "from sklearn.preprocessing import label_binarize\n",
    "from sklearn.metrics import roc_curve, auc\n",
    "import matplotlib.pyplot as plt\n",
    "\n",
    "# Binarize the output (untuk ROC multi-class)\n",
    "y_test_binarized = label_binarize(y_test, classes=np.unique(y_test))\n",
    "n_classes = y_test_binarized.shape[1]\n",
    "\n",
    "# Prediksi probabilitas untuk data uji\n",
    "y_pred_proba = LR.predict_proba(x_test)\n",
    "\n",
    "# ROC curve untuk setiap kelas\n",
    "fpr = {}\n",
    "tpr = {}\n",
    "roc_auc = {}\n",
    "\n",
    "for i in range(n_classes):\n",
    "    fpr[i], tpr[i], _ = roc_curve(y_test_binarized[:, i], y_pred_proba[:, i])\n",
    "    roc_auc[i] = auc(fpr[i], tpr[i])\n",
    "\n",
    "# Plot ROC Curve untuk setiap kelas\n",
    "plt.figure(figsize=(10, 8))\n",
    "for i in range(n_classes):\n",
    "    plt.plot(fpr[i], tpr[i], linestyle='--', label=f'Class {i} (AUC = {roc_auc[i]:.2f})')\n",
    "\n",
    "# Plot garis diagonal (baseline)\n",
    "plt.plot([0, 1], [0, 1], color='navy', linestyle='--')\n",
    "\n",
    "# Label dan judul\n",
    "plt.title('ROC Curve for Logistic Regression')\n",
    "plt.xlabel('False Positive Rate')\n",
    "plt.ylabel('True Positive Rate')\n",
    "plt.legend(loc='lower right')\n",
    "plt.show()"
   ]
  },
  {
   "cell_type": "markdown",
   "id": "163706eb",
   "metadata": {},
   "source": [
    "### Random Forest"
   ]
  },
  {
   "cell_type": "code",
   "execution_count": 347,
   "id": "5405a8e9",
   "metadata": {},
   "outputs": [],
   "source": [
    "RF = RandomForestClassifier(\n",
    "    n_estimators=100,       #tree amount\n",
    "    max_depth=10,           \n",
    "    min_samples_split=5,  \n",
    "    min_samples_leaf=2, \n",
    "    random_state=42\n",
    ")\n",
    "# RF = RandomForestClassifier()"
   ]
  },
  {
   "cell_type": "code",
   "execution_count": 348,
   "id": "edc7743e",
   "metadata": {},
   "outputs": [
    {
     "data": {
      "text/html": [
       "<style>#sk-container-id-5 {\n",
       "  /* Definition of color scheme common for light and dark mode */\n",
       "  --sklearn-color-text: #000;\n",
       "  --sklearn-color-text-muted: #666;\n",
       "  --sklearn-color-line: gray;\n",
       "  /* Definition of color scheme for unfitted estimators */\n",
       "  --sklearn-color-unfitted-level-0: #fff5e6;\n",
       "  --sklearn-color-unfitted-level-1: #f6e4d2;\n",
       "  --sklearn-color-unfitted-level-2: #ffe0b3;\n",
       "  --sklearn-color-unfitted-level-3: chocolate;\n",
       "  /* Definition of color scheme for fitted estimators */\n",
       "  --sklearn-color-fitted-level-0: #f0f8ff;\n",
       "  --sklearn-color-fitted-level-1: #d4ebff;\n",
       "  --sklearn-color-fitted-level-2: #b3dbfd;\n",
       "  --sklearn-color-fitted-level-3: cornflowerblue;\n",
       "\n",
       "  /* Specific color for light theme */\n",
       "  --sklearn-color-text-on-default-background: var(--sg-text-color, var(--theme-code-foreground, var(--jp-content-font-color1, black)));\n",
       "  --sklearn-color-background: var(--sg-background-color, var(--theme-background, var(--jp-layout-color0, white)));\n",
       "  --sklearn-color-border-box: var(--sg-text-color, var(--theme-code-foreground, var(--jp-content-font-color1, black)));\n",
       "  --sklearn-color-icon: #696969;\n",
       "\n",
       "  @media (prefers-color-scheme: dark) {\n",
       "    /* Redefinition of color scheme for dark theme */\n",
       "    --sklearn-color-text-on-default-background: var(--sg-text-color, var(--theme-code-foreground, var(--jp-content-font-color1, white)));\n",
       "    --sklearn-color-background: var(--sg-background-color, var(--theme-background, var(--jp-layout-color0, #111)));\n",
       "    --sklearn-color-border-box: var(--sg-text-color, var(--theme-code-foreground, var(--jp-content-font-color1, white)));\n",
       "    --sklearn-color-icon: #878787;\n",
       "  }\n",
       "}\n",
       "\n",
       "#sk-container-id-5 {\n",
       "  color: var(--sklearn-color-text);\n",
       "}\n",
       "\n",
       "#sk-container-id-5 pre {\n",
       "  padding: 0;\n",
       "}\n",
       "\n",
       "#sk-container-id-5 input.sk-hidden--visually {\n",
       "  border: 0;\n",
       "  clip: rect(1px 1px 1px 1px);\n",
       "  clip: rect(1px, 1px, 1px, 1px);\n",
       "  height: 1px;\n",
       "  margin: -1px;\n",
       "  overflow: hidden;\n",
       "  padding: 0;\n",
       "  position: absolute;\n",
       "  width: 1px;\n",
       "}\n",
       "\n",
       "#sk-container-id-5 div.sk-dashed-wrapped {\n",
       "  border: 1px dashed var(--sklearn-color-line);\n",
       "  margin: 0 0.4em 0.5em 0.4em;\n",
       "  box-sizing: border-box;\n",
       "  padding-bottom: 0.4em;\n",
       "  background-color: var(--sklearn-color-background);\n",
       "}\n",
       "\n",
       "#sk-container-id-5 div.sk-container {\n",
       "  /* jupyter's `normalize.less` sets `[hidden] { display: none; }`\n",
       "     but bootstrap.min.css set `[hidden] { display: none !important; }`\n",
       "     so we also need the `!important` here to be able to override the\n",
       "     default hidden behavior on the sphinx rendered scikit-learn.org.\n",
       "     See: https://github.com/scikit-learn/scikit-learn/issues/21755 */\n",
       "  display: inline-block !important;\n",
       "  position: relative;\n",
       "}\n",
       "\n",
       "#sk-container-id-5 div.sk-text-repr-fallback {\n",
       "  display: none;\n",
       "}\n",
       "\n",
       "div.sk-parallel-item,\n",
       "div.sk-serial,\n",
       "div.sk-item {\n",
       "  /* draw centered vertical line to link estimators */\n",
       "  background-image: linear-gradient(var(--sklearn-color-text-on-default-background), var(--sklearn-color-text-on-default-background));\n",
       "  background-size: 2px 100%;\n",
       "  background-repeat: no-repeat;\n",
       "  background-position: center center;\n",
       "}\n",
       "\n",
       "/* Parallel-specific style estimator block */\n",
       "\n",
       "#sk-container-id-5 div.sk-parallel-item::after {\n",
       "  content: \"\";\n",
       "  width: 100%;\n",
       "  border-bottom: 2px solid var(--sklearn-color-text-on-default-background);\n",
       "  flex-grow: 1;\n",
       "}\n",
       "\n",
       "#sk-container-id-5 div.sk-parallel {\n",
       "  display: flex;\n",
       "  align-items: stretch;\n",
       "  justify-content: center;\n",
       "  background-color: var(--sklearn-color-background);\n",
       "  position: relative;\n",
       "}\n",
       "\n",
       "#sk-container-id-5 div.sk-parallel-item {\n",
       "  display: flex;\n",
       "  flex-direction: column;\n",
       "}\n",
       "\n",
       "#sk-container-id-5 div.sk-parallel-item:first-child::after {\n",
       "  align-self: flex-end;\n",
       "  width: 50%;\n",
       "}\n",
       "\n",
       "#sk-container-id-5 div.sk-parallel-item:last-child::after {\n",
       "  align-self: flex-start;\n",
       "  width: 50%;\n",
       "}\n",
       "\n",
       "#sk-container-id-5 div.sk-parallel-item:only-child::after {\n",
       "  width: 0;\n",
       "}\n",
       "\n",
       "/* Serial-specific style estimator block */\n",
       "\n",
       "#sk-container-id-5 div.sk-serial {\n",
       "  display: flex;\n",
       "  flex-direction: column;\n",
       "  align-items: center;\n",
       "  background-color: var(--sklearn-color-background);\n",
       "  padding-right: 1em;\n",
       "  padding-left: 1em;\n",
       "}\n",
       "\n",
       "\n",
       "/* Toggleable style: style used for estimator/Pipeline/ColumnTransformer box that is\n",
       "clickable and can be expanded/collapsed.\n",
       "- Pipeline and ColumnTransformer use this feature and define the default style\n",
       "- Estimators will overwrite some part of the style using the `sk-estimator` class\n",
       "*/\n",
       "\n",
       "/* Pipeline and ColumnTransformer style (default) */\n",
       "\n",
       "#sk-container-id-5 div.sk-toggleable {\n",
       "  /* Default theme specific background. It is overwritten whether we have a\n",
       "  specific estimator or a Pipeline/ColumnTransformer */\n",
       "  background-color: var(--sklearn-color-background);\n",
       "}\n",
       "\n",
       "/* Toggleable label */\n",
       "#sk-container-id-5 label.sk-toggleable__label {\n",
       "  cursor: pointer;\n",
       "  display: flex;\n",
       "  width: 100%;\n",
       "  margin-bottom: 0;\n",
       "  padding: 0.5em;\n",
       "  box-sizing: border-box;\n",
       "  text-align: center;\n",
       "  align-items: start;\n",
       "  justify-content: space-between;\n",
       "  gap: 0.5em;\n",
       "}\n",
       "\n",
       "#sk-container-id-5 label.sk-toggleable__label .caption {\n",
       "  font-size: 0.6rem;\n",
       "  font-weight: lighter;\n",
       "  color: var(--sklearn-color-text-muted);\n",
       "}\n",
       "\n",
       "#sk-container-id-5 label.sk-toggleable__label-arrow:before {\n",
       "  /* Arrow on the left of the label */\n",
       "  content: \"▸\";\n",
       "  float: left;\n",
       "  margin-right: 0.25em;\n",
       "  color: var(--sklearn-color-icon);\n",
       "}\n",
       "\n",
       "#sk-container-id-5 label.sk-toggleable__label-arrow:hover:before {\n",
       "  color: var(--sklearn-color-text);\n",
       "}\n",
       "\n",
       "/* Toggleable content - dropdown */\n",
       "\n",
       "#sk-container-id-5 div.sk-toggleable__content {\n",
       "  max-height: 0;\n",
       "  max-width: 0;\n",
       "  overflow: hidden;\n",
       "  text-align: left;\n",
       "  /* unfitted */\n",
       "  background-color: var(--sklearn-color-unfitted-level-0);\n",
       "}\n",
       "\n",
       "#sk-container-id-5 div.sk-toggleable__content.fitted {\n",
       "  /* fitted */\n",
       "  background-color: var(--sklearn-color-fitted-level-0);\n",
       "}\n",
       "\n",
       "#sk-container-id-5 div.sk-toggleable__content pre {\n",
       "  margin: 0.2em;\n",
       "  border-radius: 0.25em;\n",
       "  color: var(--sklearn-color-text);\n",
       "  /* unfitted */\n",
       "  background-color: var(--sklearn-color-unfitted-level-0);\n",
       "}\n",
       "\n",
       "#sk-container-id-5 div.sk-toggleable__content.fitted pre {\n",
       "  /* unfitted */\n",
       "  background-color: var(--sklearn-color-fitted-level-0);\n",
       "}\n",
       "\n",
       "#sk-container-id-5 input.sk-toggleable__control:checked~div.sk-toggleable__content {\n",
       "  /* Expand drop-down */\n",
       "  max-height: 200px;\n",
       "  max-width: 100%;\n",
       "  overflow: auto;\n",
       "}\n",
       "\n",
       "#sk-container-id-5 input.sk-toggleable__control:checked~label.sk-toggleable__label-arrow:before {\n",
       "  content: \"▾\";\n",
       "}\n",
       "\n",
       "/* Pipeline/ColumnTransformer-specific style */\n",
       "\n",
       "#sk-container-id-5 div.sk-label input.sk-toggleable__control:checked~label.sk-toggleable__label {\n",
       "  color: var(--sklearn-color-text);\n",
       "  background-color: var(--sklearn-color-unfitted-level-2);\n",
       "}\n",
       "\n",
       "#sk-container-id-5 div.sk-label.fitted input.sk-toggleable__control:checked~label.sk-toggleable__label {\n",
       "  background-color: var(--sklearn-color-fitted-level-2);\n",
       "}\n",
       "\n",
       "/* Estimator-specific style */\n",
       "\n",
       "/* Colorize estimator box */\n",
       "#sk-container-id-5 div.sk-estimator input.sk-toggleable__control:checked~label.sk-toggleable__label {\n",
       "  /* unfitted */\n",
       "  background-color: var(--sklearn-color-unfitted-level-2);\n",
       "}\n",
       "\n",
       "#sk-container-id-5 div.sk-estimator.fitted input.sk-toggleable__control:checked~label.sk-toggleable__label {\n",
       "  /* fitted */\n",
       "  background-color: var(--sklearn-color-fitted-level-2);\n",
       "}\n",
       "\n",
       "#sk-container-id-5 div.sk-label label.sk-toggleable__label,\n",
       "#sk-container-id-5 div.sk-label label {\n",
       "  /* The background is the default theme color */\n",
       "  color: var(--sklearn-color-text-on-default-background);\n",
       "}\n",
       "\n",
       "/* On hover, darken the color of the background */\n",
       "#sk-container-id-5 div.sk-label:hover label.sk-toggleable__label {\n",
       "  color: var(--sklearn-color-text);\n",
       "  background-color: var(--sklearn-color-unfitted-level-2);\n",
       "}\n",
       "\n",
       "/* Label box, darken color on hover, fitted */\n",
       "#sk-container-id-5 div.sk-label.fitted:hover label.sk-toggleable__label.fitted {\n",
       "  color: var(--sklearn-color-text);\n",
       "  background-color: var(--sklearn-color-fitted-level-2);\n",
       "}\n",
       "\n",
       "/* Estimator label */\n",
       "\n",
       "#sk-container-id-5 div.sk-label label {\n",
       "  font-family: monospace;\n",
       "  font-weight: bold;\n",
       "  display: inline-block;\n",
       "  line-height: 1.2em;\n",
       "}\n",
       "\n",
       "#sk-container-id-5 div.sk-label-container {\n",
       "  text-align: center;\n",
       "}\n",
       "\n",
       "/* Estimator-specific */\n",
       "#sk-container-id-5 div.sk-estimator {\n",
       "  font-family: monospace;\n",
       "  border: 1px dotted var(--sklearn-color-border-box);\n",
       "  border-radius: 0.25em;\n",
       "  box-sizing: border-box;\n",
       "  margin-bottom: 0.5em;\n",
       "  /* unfitted */\n",
       "  background-color: var(--sklearn-color-unfitted-level-0);\n",
       "}\n",
       "\n",
       "#sk-container-id-5 div.sk-estimator.fitted {\n",
       "  /* fitted */\n",
       "  background-color: var(--sklearn-color-fitted-level-0);\n",
       "}\n",
       "\n",
       "/* on hover */\n",
       "#sk-container-id-5 div.sk-estimator:hover {\n",
       "  /* unfitted */\n",
       "  background-color: var(--sklearn-color-unfitted-level-2);\n",
       "}\n",
       "\n",
       "#sk-container-id-5 div.sk-estimator.fitted:hover {\n",
       "  /* fitted */\n",
       "  background-color: var(--sklearn-color-fitted-level-2);\n",
       "}\n",
       "\n",
       "/* Specification for estimator info (e.g. \"i\" and \"?\") */\n",
       "\n",
       "/* Common style for \"i\" and \"?\" */\n",
       "\n",
       ".sk-estimator-doc-link,\n",
       "a:link.sk-estimator-doc-link,\n",
       "a:visited.sk-estimator-doc-link {\n",
       "  float: right;\n",
       "  font-size: smaller;\n",
       "  line-height: 1em;\n",
       "  font-family: monospace;\n",
       "  background-color: var(--sklearn-color-background);\n",
       "  border-radius: 1em;\n",
       "  height: 1em;\n",
       "  width: 1em;\n",
       "  text-decoration: none !important;\n",
       "  margin-left: 0.5em;\n",
       "  text-align: center;\n",
       "  /* unfitted */\n",
       "  border: var(--sklearn-color-unfitted-level-1) 1pt solid;\n",
       "  color: var(--sklearn-color-unfitted-level-1);\n",
       "}\n",
       "\n",
       ".sk-estimator-doc-link.fitted,\n",
       "a:link.sk-estimator-doc-link.fitted,\n",
       "a:visited.sk-estimator-doc-link.fitted {\n",
       "  /* fitted */\n",
       "  border: var(--sklearn-color-fitted-level-1) 1pt solid;\n",
       "  color: var(--sklearn-color-fitted-level-1);\n",
       "}\n",
       "\n",
       "/* On hover */\n",
       "div.sk-estimator:hover .sk-estimator-doc-link:hover,\n",
       ".sk-estimator-doc-link:hover,\n",
       "div.sk-label-container:hover .sk-estimator-doc-link:hover,\n",
       ".sk-estimator-doc-link:hover {\n",
       "  /* unfitted */\n",
       "  background-color: var(--sklearn-color-unfitted-level-3);\n",
       "  color: var(--sklearn-color-background);\n",
       "  text-decoration: none;\n",
       "}\n",
       "\n",
       "div.sk-estimator.fitted:hover .sk-estimator-doc-link.fitted:hover,\n",
       ".sk-estimator-doc-link.fitted:hover,\n",
       "div.sk-label-container:hover .sk-estimator-doc-link.fitted:hover,\n",
       ".sk-estimator-doc-link.fitted:hover {\n",
       "  /* fitted */\n",
       "  background-color: var(--sklearn-color-fitted-level-3);\n",
       "  color: var(--sklearn-color-background);\n",
       "  text-decoration: none;\n",
       "}\n",
       "\n",
       "/* Span, style for the box shown on hovering the info icon */\n",
       ".sk-estimator-doc-link span {\n",
       "  display: none;\n",
       "  z-index: 9999;\n",
       "  position: relative;\n",
       "  font-weight: normal;\n",
       "  right: .2ex;\n",
       "  padding: .5ex;\n",
       "  margin: .5ex;\n",
       "  width: min-content;\n",
       "  min-width: 20ex;\n",
       "  max-width: 50ex;\n",
       "  color: var(--sklearn-color-text);\n",
       "  box-shadow: 2pt 2pt 4pt #999;\n",
       "  /* unfitted */\n",
       "  background: var(--sklearn-color-unfitted-level-0);\n",
       "  border: .5pt solid var(--sklearn-color-unfitted-level-3);\n",
       "}\n",
       "\n",
       ".sk-estimator-doc-link.fitted span {\n",
       "  /* fitted */\n",
       "  background: var(--sklearn-color-fitted-level-0);\n",
       "  border: var(--sklearn-color-fitted-level-3);\n",
       "}\n",
       "\n",
       ".sk-estimator-doc-link:hover span {\n",
       "  display: block;\n",
       "}\n",
       "\n",
       "/* \"?\"-specific style due to the `<a>` HTML tag */\n",
       "\n",
       "#sk-container-id-5 a.estimator_doc_link {\n",
       "  float: right;\n",
       "  font-size: 1rem;\n",
       "  line-height: 1em;\n",
       "  font-family: monospace;\n",
       "  background-color: var(--sklearn-color-background);\n",
       "  border-radius: 1rem;\n",
       "  height: 1rem;\n",
       "  width: 1rem;\n",
       "  text-decoration: none;\n",
       "  /* unfitted */\n",
       "  color: var(--sklearn-color-unfitted-level-1);\n",
       "  border: var(--sklearn-color-unfitted-level-1) 1pt solid;\n",
       "}\n",
       "\n",
       "#sk-container-id-5 a.estimator_doc_link.fitted {\n",
       "  /* fitted */\n",
       "  border: var(--sklearn-color-fitted-level-1) 1pt solid;\n",
       "  color: var(--sklearn-color-fitted-level-1);\n",
       "}\n",
       "\n",
       "/* On hover */\n",
       "#sk-container-id-5 a.estimator_doc_link:hover {\n",
       "  /* unfitted */\n",
       "  background-color: var(--sklearn-color-unfitted-level-3);\n",
       "  color: var(--sklearn-color-background);\n",
       "  text-decoration: none;\n",
       "}\n",
       "\n",
       "#sk-container-id-5 a.estimator_doc_link.fitted:hover {\n",
       "  /* fitted */\n",
       "  background-color: var(--sklearn-color-fitted-level-3);\n",
       "}\n",
       "</style><div id=\"sk-container-id-5\" class=\"sk-top-container\"><div class=\"sk-text-repr-fallback\"><pre>RandomForestClassifier(max_depth=10, min_samples_leaf=2, min_samples_split=5,\n",
       "                       random_state=42)</pre><b>In a Jupyter environment, please rerun this cell to show the HTML representation or trust the notebook. <br />On GitHub, the HTML representation is unable to render, please try loading this page with nbviewer.org.</b></div><div class=\"sk-container\" hidden><div class=\"sk-item\"><div class=\"sk-estimator fitted sk-toggleable\"><input class=\"sk-toggleable__control sk-hidden--visually\" id=\"sk-estimator-id-5\" type=\"checkbox\" checked><label for=\"sk-estimator-id-5\" class=\"sk-toggleable__label fitted sk-toggleable__label-arrow\"><div><div>RandomForestClassifier</div></div><div><a class=\"sk-estimator-doc-link fitted\" rel=\"noreferrer\" target=\"_blank\" href=\"https://scikit-learn.org/1.6/modules/generated/sklearn.ensemble.RandomForestClassifier.html\">?<span>Documentation for RandomForestClassifier</span></a><span class=\"sk-estimator-doc-link fitted\">i<span>Fitted</span></span></div></label><div class=\"sk-toggleable__content fitted\"><pre>RandomForestClassifier(max_depth=10, min_samples_leaf=2, min_samples_split=5,\n",
       "                       random_state=42)</pre></div> </div></div></div></div>"
      ],
      "text/plain": [
       "RandomForestClassifier(max_depth=10, min_samples_leaf=2, min_samples_split=5,\n",
       "                       random_state=42)"
      ]
     },
     "execution_count": 348,
     "metadata": {},
     "output_type": "execute_result"
    }
   ],
   "source": [
    "RF.fit(x_train_balanced, y_train_balanced)\n"
   ]
  },
  {
   "cell_type": "code",
   "execution_count": 349,
   "id": "e95e0d9b",
   "metadata": {},
   "outputs": [],
   "source": [
    "y_pred = RF.predict(x_test)\n",
    "pred_prob = RF.predict_proba(x_test)"
   ]
  },
  {
   "cell_type": "code",
   "execution_count": 350,
   "id": "cf5c39eb",
   "metadata": {},
   "outputs": [
    {
     "name": "stdout",
     "output_type": "stream",
     "text": [
      "              precision    recall  f1-score   support\n",
      "\n",
      "       mahal       1.00      1.00      1.00        19\n",
      "       murah       1.00      0.92      0.96        24\n",
      "      normal       0.89      1.00      0.94        17\n",
      "\n",
      "    accuracy                           0.97        60\n",
      "   macro avg       0.96      0.97      0.97        60\n",
      "weighted avg       0.97      0.97      0.97        60\n",
      "\n"
     ]
    }
   ],
   "source": [
    "from sklearn.metrics import classification_report, roc_auc_score\n",
    "\n",
    "y_pred = RF.predict(x_test)\n",
    "y_pred_proba = RF.predict_proba(x_test)\n",
    "\n",
    "print(classification_report(y_test, y_pred))\n",
    "# ROC AUC untuk multi-kelas\n",
    "roc_auc = roc_auc_score(y_test, y_pred_proba, multi_class='ovr')\n"
   ]
  },
  {
   "cell_type": "code",
   "execution_count": 351,
   "id": "de17130a",
   "metadata": {},
   "outputs": [
    {
     "name": "stdout",
     "output_type": "stream",
     "text": [
      "Random Forest Accuracy: 0.97\n"
     ]
    }
   ],
   "source": [
    "accuracy = accuracy_score(y_test, y_pred)\n",
    "print(f\"Random Forest Accuracy: {accuracy:.2f}\")"
   ]
  },
  {
   "cell_type": "code",
   "execution_count": 352,
   "id": "5dcb6d7e",
   "metadata": {},
   "outputs": [],
   "source": [
    "# Prediksi probabilitas untuk data uji\n",
    "y_pred_proba = RF.predict_proba(x_test)"
   ]
  },
  {
   "cell_type": "code",
   "execution_count": 353,
   "id": "0695410d",
   "metadata": {},
   "outputs": [
    {
     "name": "stdout",
     "output_type": "stream",
     "text": [
      "Distribusi y_test: price_category\n",
      "murah     24\n",
      "mahal     19\n",
      "normal    17\n",
      "Name: count, dtype: int64\n"
     ]
    }
   ],
   "source": [
    "print(\"Distribusi y_test:\", pd.Series(y_test).value_counts())"
   ]
  },
  {
   "cell_type": "code",
   "execution_count": 354,
   "id": "c78a6416",
   "metadata": {},
   "outputs": [
    {
     "name": "stdout",
     "output_type": "stream",
     "text": [
      "Prediksi probabilitas: [[0.         1.         0.        ]\n",
      " [0.         0.98333333 0.01666667]\n",
      " [0.         1.         0.        ]\n",
      " [0.09       0.         0.91      ]\n",
      " [0.         1.         0.        ]\n",
      " [0.         0.17333333 0.82666667]\n",
      " [0.21       0.         0.79      ]\n",
      " [1.         0.         0.        ]\n",
      " [1.         0.         0.        ]\n",
      " [0.         0.         1.        ]]\n"
     ]
    }
   ],
   "source": [
    "print(\"Prediksi probabilitas:\", y_pred_proba[:10])"
   ]
  },
  {
   "cell_type": "code",
   "execution_count": 355,
   "id": "e61ba12c",
   "metadata": {},
   "outputs": [
    {
     "name": "stdout",
     "output_type": "stream",
     "text": [
      "Cross-validation scores: [0.94444444 1.         0.88888889 0.94444444 0.94117647]\n",
      "Mean CV score: 0.9437908496732026\n"
     ]
    }
   ],
   "source": [
    "from sklearn.model_selection import cross_val_score\n",
    "\n",
    "scores = cross_val_score(RF, x_train, y_train, cv=5, scoring='accuracy')\n",
    "print(f\"Cross-validation scores: {scores}\")\n",
    "print(f\"Mean CV score: {scores.mean()}\")"
   ]
  },
  {
   "cell_type": "markdown",
   "id": "dc71728e",
   "metadata": {},
   "source": [
    "### save model"
   ]
  },
  {
   "cell_type": "code",
   "execution_count": 356,
   "id": "1213f737",
   "metadata": {},
   "outputs": [
    {
     "name": "stdout",
     "output_type": "stream",
     "text": [
      "Model berhasil disimpan!\n"
     ]
    }
   ],
   "source": [
    "import joblib\n",
    "\n",
    "# Simpan model Random Forest ke file\n",
    "joblib.dump(RF, 'RF_model.pkl')\n",
    "print(\"Model berhasil disimpan!\")"
   ]
  },
  {
   "cell_type": "markdown",
   "id": "12249104",
   "metadata": {},
   "source": [
    "## Load model and preprocess to use"
   ]
  },
  {
   "cell_type": "code",
   "execution_count": 357,
   "id": "dd5fd195",
   "metadata": {},
   "outputs": [],
   "source": [
    "\n",
    "model = joblib.load('RF_model.pkl')"
   ]
  },
  {
   "cell_type": "code",
   "execution_count": 358,
   "id": "8c3c100b",
   "metadata": {},
   "outputs": [],
   "source": [
    "# Encode kolom 'source'\n",
    "combined_data=pd.read_csv('combined_data.csv')\n",
    "combined_data['source'] = combined_data['source'].map({'astro': 0, 'indomart': 1})"
   ]
  },
  {
   "cell_type": "code",
   "execution_count": 359,
   "id": "560c31e2",
   "metadata": {},
   "outputs": [
    {
     "data": {
      "text/plain": [
       "name      0\n",
       "price     0\n",
       "source    0\n",
       "dtype: int64"
      ]
     },
     "execution_count": 359,
     "metadata": {},
     "output_type": "execute_result"
    }
   ],
   "source": [
    "combined_data.isnull().sum()"
   ]
  },
  {
   "cell_type": "code",
   "execution_count": 360,
   "id": "5a53b45f",
   "metadata": {},
   "outputs": [
    {
     "name": "stdout",
     "output_type": "stream",
     "text": [
      "                                                  name  price  source  \\\n",
      "0                               Barilla Pasta Rigatoni   48.5       0   \n",
      "1                             Barilla Pasta Angel Hair   40.9       0   \n",
      "2                                  Masaya Beras Porang  125.0       0   \n",
      "3                       Mie Sedaap Soto Dus/Mie Instan  108.0       0   \n",
      "4      Mie Sedaap Singapore Spicy Laksa Dus/Mie Instan  108.0       0   \n",
      "..                                                 ...    ...     ...   \n",
      "144                           Fiesta Spicy Karage 400G   56.6       1   \n",
      "145                             Fiesta Spicy Wing 400G   59.9       1   \n",
      "146  Nutrijell Pudding Susu Powder Korean Strawberr...   13.5       1   \n",
      "147               Tudung Bumbu Nasi Padang Rendang 27G    7.5       1   \n",
      "148                         Tudung Bumbu Nasi Uduk 27G    7.5       1   \n",
      "\n",
      "    price_category  \n",
      "0            mahal  \n",
      "1            mahal  \n",
      "2            mahal  \n",
      "3            mahal  \n",
      "4            mahal  \n",
      "..             ...  \n",
      "144          mahal  \n",
      "145          mahal  \n",
      "146          mahal  \n",
      "147          mahal  \n",
      "148          mahal  \n",
      "\n",
      "[149 rows x 4 columns]\n"
     ]
    }
   ],
   "source": [
    "# Prediksi kategori harga\n",
    "input_features = combined_data[['price', 'source']]\n",
    "predictions = model.predict(input_features)\n",
    "\n",
    "# Tambahkan hasil prediksi ke dalam dataset\n",
    "combined_data['price_category'] = predictions\n",
    "\n",
    "# Tampilkan hasil\n",
    "print(combined_data)"
   ]
  },
  {
   "cell_type": "code",
   "execution_count": 361,
   "id": "36552534",
   "metadata": {},
   "outputs": [],
   "source": [
    "combined_data['source'] = combined_data['source'].map({0 : 'astro', 1 : 'indomart'})"
   ]
  },
  {
   "cell_type": "code",
   "execution_count": 362,
   "id": "9945eec2",
   "metadata": {},
   "outputs": [
    {
     "data": {
      "text/html": [
       "<div>\n",
       "<style scoped>\n",
       "    .dataframe tbody tr th:only-of-type {\n",
       "        vertical-align: middle;\n",
       "    }\n",
       "\n",
       "    .dataframe tbody tr th {\n",
       "        vertical-align: top;\n",
       "    }\n",
       "\n",
       "    .dataframe thead th {\n",
       "        text-align: right;\n",
       "    }\n",
       "</style>\n",
       "<table border=\"1\" class=\"dataframe\">\n",
       "  <thead>\n",
       "    <tr style=\"text-align: right;\">\n",
       "      <th></th>\n",
       "      <th>name</th>\n",
       "      <th>price</th>\n",
       "      <th>source</th>\n",
       "      <th>price_category</th>\n",
       "    </tr>\n",
       "  </thead>\n",
       "  <tbody>\n",
       "    <tr>\n",
       "      <th>0</th>\n",
       "      <td>Barilla Pasta Rigatoni</td>\n",
       "      <td>48.5</td>\n",
       "      <td>astro</td>\n",
       "      <td>mahal</td>\n",
       "    </tr>\n",
       "    <tr>\n",
       "      <th>1</th>\n",
       "      <td>Barilla Pasta Angel Hair</td>\n",
       "      <td>40.9</td>\n",
       "      <td>astro</td>\n",
       "      <td>mahal</td>\n",
       "    </tr>\n",
       "    <tr>\n",
       "      <th>2</th>\n",
       "      <td>Masaya Beras Porang</td>\n",
       "      <td>125.0</td>\n",
       "      <td>astro</td>\n",
       "      <td>mahal</td>\n",
       "    </tr>\n",
       "    <tr>\n",
       "      <th>3</th>\n",
       "      <td>Mie Sedaap Soto Dus/Mie Instan</td>\n",
       "      <td>108.0</td>\n",
       "      <td>astro</td>\n",
       "      <td>mahal</td>\n",
       "    </tr>\n",
       "    <tr>\n",
       "      <th>4</th>\n",
       "      <td>Mie Sedaap Singapore Spicy Laksa Dus/Mie Instan</td>\n",
       "      <td>108.0</td>\n",
       "      <td>astro</td>\n",
       "      <td>mahal</td>\n",
       "    </tr>\n",
       "    <tr>\n",
       "      <th>...</th>\n",
       "      <td>...</td>\n",
       "      <td>...</td>\n",
       "      <td>...</td>\n",
       "      <td>...</td>\n",
       "    </tr>\n",
       "    <tr>\n",
       "      <th>144</th>\n",
       "      <td>Fiesta Spicy Karage 400G</td>\n",
       "      <td>56.6</td>\n",
       "      <td>indomart</td>\n",
       "      <td>mahal</td>\n",
       "    </tr>\n",
       "    <tr>\n",
       "      <th>145</th>\n",
       "      <td>Fiesta Spicy Wing 400G</td>\n",
       "      <td>59.9</td>\n",
       "      <td>indomart</td>\n",
       "      <td>mahal</td>\n",
       "    </tr>\n",
       "    <tr>\n",
       "      <th>146</th>\n",
       "      <td>Nutrijell Pudding Susu Powder Korean Strawberr...</td>\n",
       "      <td>13.5</td>\n",
       "      <td>indomart</td>\n",
       "      <td>mahal</td>\n",
       "    </tr>\n",
       "    <tr>\n",
       "      <th>147</th>\n",
       "      <td>Tudung Bumbu Nasi Padang Rendang 27G</td>\n",
       "      <td>7.5</td>\n",
       "      <td>indomart</td>\n",
       "      <td>mahal</td>\n",
       "    </tr>\n",
       "    <tr>\n",
       "      <th>148</th>\n",
       "      <td>Tudung Bumbu Nasi Uduk 27G</td>\n",
       "      <td>7.5</td>\n",
       "      <td>indomart</td>\n",
       "      <td>mahal</td>\n",
       "    </tr>\n",
       "  </tbody>\n",
       "</table>\n",
       "<p>149 rows × 4 columns</p>\n",
       "</div>"
      ],
      "text/plain": [
       "                                                  name  price    source  \\\n",
       "0                               Barilla Pasta Rigatoni   48.5     astro   \n",
       "1                             Barilla Pasta Angel Hair   40.9     astro   \n",
       "2                                  Masaya Beras Porang  125.0     astro   \n",
       "3                       Mie Sedaap Soto Dus/Mie Instan  108.0     astro   \n",
       "4      Mie Sedaap Singapore Spicy Laksa Dus/Mie Instan  108.0     astro   \n",
       "..                                                 ...    ...       ...   \n",
       "144                           Fiesta Spicy Karage 400G   56.6  indomart   \n",
       "145                             Fiesta Spicy Wing 400G   59.9  indomart   \n",
       "146  Nutrijell Pudding Susu Powder Korean Strawberr...   13.5  indomart   \n",
       "147               Tudung Bumbu Nasi Padang Rendang 27G    7.5  indomart   \n",
       "148                         Tudung Bumbu Nasi Uduk 27G    7.5  indomart   \n",
       "\n",
       "    price_category  \n",
       "0            mahal  \n",
       "1            mahal  \n",
       "2            mahal  \n",
       "3            mahal  \n",
       "4            mahal  \n",
       "..             ...  \n",
       "144          mahal  \n",
       "145          mahal  \n",
       "146          mahal  \n",
       "147          mahal  \n",
       "148          mahal  \n",
       "\n",
       "[149 rows x 4 columns]"
      ]
     },
     "execution_count": 362,
     "metadata": {},
     "output_type": "execute_result"
    }
   ],
   "source": [
    "combined_data"
   ]
  },
  {
   "cell_type": "markdown",
   "id": "28aadf70",
   "metadata": {},
   "source": [
    "## Case"
   ]
  },
  {
   "cell_type": "code",
   "execution_count": 363,
   "id": "d4817673",
   "metadata": {},
   "outputs": [
    {
     "name": "stdout",
     "output_type": "stream",
     "text": [
      "     name     price  source price_category\n",
      "0    gula  0.027778       0          murah\n",
      "1   beras  1.000000       1          mahal\n",
      "2  minyak  0.444444       0          mahal\n",
      "3    gula  0.000000       1          murah\n",
      "4   beras  0.944444       0          mahal\n"
     ]
    }
   ],
   "source": [
    "import pandas as pd\n",
    "import joblib\n",
    "\n",
    "# Muat model Random Forest\n",
    "model = joblib.load('RF_model.pkl')\n",
    "combined_data['price_category_ori']=combined_data['price_category']\n",
    "# Data combined_data (contoh)\n",
    "combined_data = pd.DataFrame({\n",
    "    'name': ['gula', 'beras', 'minyak', 'gula', 'beras'],\n",
    "    'price': [15000, 50000, 30000, 14000, 48000],\n",
    "    'source': ['astro', 'indomart', 'astro', 'indomart', 'astro']\n",
    "})\n",
    "\n",
    "# Preprocessing data\n",
    "# Encode kolom 'source'\n",
    "combined_data['source'] = combined_data['source'].map({'astro': 0, 'indomart': 1})\n",
    "\n",
    "# Normalisasi kolom 'price' (jika diperlukan)\n",
    "from sklearn.preprocessing import MinMaxScaler\n",
    "scaler = MinMaxScaler()\n",
    "combined_data['price'] = scaler.fit_transform(combined_data[['price']])\n",
    "\n",
    "# Prediksi kategori harga\n",
    "input_features = combined_data[['price', 'source']]\n",
    "predictions = model.predict(input_features)\n",
    "\n",
    "\n",
    "# Tambahkan hasil prediksi ke dalam dataset\n",
    "combined_data['price_category'] = predictions\n",
    "\n",
    "# Tampilkan hasil\n",
    "print(combined_data)"
   ]
  }
 ],
 "metadata": {
  "kernelspec": {
   "display_name": "Python 3",
   "language": "python",
   "name": "python3"
  },
  "language_info": {
   "codemirror_mode": {
    "name": "ipython",
    "version": 3
   },
   "file_extension": ".py",
   "mimetype": "text/x-python",
   "name": "python",
   "nbconvert_exporter": "python",
   "pygments_lexer": "ipython3",
   "version": "3.11.9"
  }
 },
 "nbformat": 4,
 "nbformat_minor": 5
}
